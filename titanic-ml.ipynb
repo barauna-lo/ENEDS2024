{
 "cells": [
  {
   "cell_type": "markdown",
   "metadata": {
    "_uuid": "9ae8df68fcf1fe252cc59b456b267902da58dc9d"
   },
   "source": [
    "# Projeto Titanic em português para brasileiros\n",
    "## 1 Introdução\n",
    "\n",
    "__Dados coletados:__ Foram enviados dois arquivos, um contendo um conjunto de dados com informações de 936 passageiros (train.csv) e um para testes, contendo os dados de 418 passageiros(test.csv). O primeiro possui uma coluna que nos informa se o passageiro sobreviveu ou não, no segundo esta coluna deve ser prevista com o algoritmo proposto."
   ]
  },
  {
   "cell_type": "markdown",
   "metadata": {
    "_uuid": "31b47bc0c3b1c657e7537f6cc0c1b5b268afda17"
   },
   "source": [
    "## 2 Primeiro contato com os dados\n",
    "### 2.1 Importar bibliotecas e dados\n",
    "O código foi inteiramente escrito em Python 3, usaremos algumas bibliotecas muito conhecidas na área de Ciência de dados:\n",
    "- Numpy para matrizes multidimensionais\n",
    "- Pandas para manipulação e análise de dados\n",
    "- Matplotlib e Seaborn para visualização de dados\n",
    "- Scikit-learn para modelos de Machine Learning\n",
    "\n",
    "Os dados foram importados em duas variáveis: Treino, referente ao primeiro arquivo, e Teste, referente ao segundo.\n",
    "Colunas renomeadas para melhorar a leitura e para padronizar ambos os arquivos."
   ]
  },
  {
   "cell_type": "code",
   "execution_count": 1,
   "metadata": {
    "_uuid": "ee509e7f9457bbfa394ba369868f3fecc3011825"
   },
   "outputs": [],
   "source": [
    "#Importando Bibliotecas\n",
    "import numpy as np \n",
    "import pandas as pd\n",
    "import matplotlib.pyplot as plt\n",
    "import seaborn as sns\n",
    "from scipy import stats\n",
    "from sklearn.linear_model import LogisticRegression\n",
    "from sklearn.svm import SVC\n",
    "from sklearn.ensemble import RandomForestClassifier\n",
    "from sklearn import preprocessing\n",
    "from sklearn.metrics import confusion_matrix\n",
    "import itertools\n",
    "from sklearn.model_selection import train_test_split\n",
    "from sklearn.metrics import accuracy_score, precision_score, recall_score, f1_score\n",
    "from sklearn.model_selection import train_test_split\n",
    "from sklearn.metrics import accuracy_score, precision_score, recall_score, f1_score\n",
    "\n",
    "#Importando os dados para as variáveis= pd.readcsv(\"../input/train.csv\")\n",
    "treino =  pd.read_csv('train.csv')\n",
    "teste =  pd.read_csv('test.csv')\n",
    "\n",
    "#Colunas Renomeadas\n",
    "treino = treino.rename(columns={'passengerid': 'Passengerid', 'survived': 'Survived', 'pclass': 'Pclass', 'name':'Name', 'sex': 'Sex', 'age': 'Age', 'sibsp': 'Sibsp', 'parch':'Parch','ticket': 'Ticket', 'fare':'Fare', 'cabin': 'Cabin', 'embarked': 'Embarked'})\n",
    "\n",
    "#Lista que contém nossas matrizes\n",
    "todosdados = [treino,teste]"
   ]
  },
  {
   "cell_type": "markdown",
   "metadata": {
    "_uuid": "726a3d4ee39405185c247d880c53a7fc9a9105fd"
   },
   "source": [
    "### 2.2 Conhecendo os dados\n",
    "Em nossas colunas teremos as váriaveis descritas a seguir:\n",
    "\n",
    "Survived:\n",
    "  * Se o passageiro sobreviveu ou não\n",
    "  * Valores possíveis:\n",
    "    0 = Não\n",
    "    1 = Sim\n",
    "\n",
    "Pclass:\n",
    "  * classe da Passagem no navio\n",
    "  * Valores possíveis:\n",
    "    1 = primeira classe,\n",
    "    2 = classe executiva,\n",
    "    3 = classe econômica\n",
    "\n",
    "Sex:\n",
    "  * O gênero do passageiro\n",
    "\n",
    "Age:\n",
    "  * Idade em anos\n",
    "\n",
    "SibSp\n",
    "  * Número de irmaos/companheiros dentro do navio\n",
    "\n",
    "Parch:\n",
    "  * Número de parentes e filhos no navio\n",
    "\n",
    "Ticket:\n",
    "  * Código da passagem\n",
    "\n",
    "Fare:\n",
    "  * Valor da passagem\n",
    "\n",
    "Cabin:\n",
    "  * Número da cabine\n",
    "\n",
    "Embarked:\n",
    "  * Local onde embarcou no Titanic\n",
    "  * Possíveis valores: \n",
    "    C = Cherbourg,\n",
    "    Q = Queenstown,\n",
    "    S = Southampton"
   ]
  },
  {
   "cell_type": "code",
   "execution_count": 2,
   "metadata": {
    "_uuid": "01f27a5e646fe1dde33b0e2744831fb27ef91adf"
   },
   "outputs": [
    {
     "name": "stdout",
     "output_type": "stream",
     "text": [
      "Index(['Passengerid', 'Survived', 'Pclass', 'Name', 'Sex', 'Age', 'Sibsp',\n",
      "       'Parch', 'Ticket', 'Fare', 'Cabin', 'Embarked'],\n",
      "      dtype='object')\n",
      "____________________________________________________________\n",
      "   Passengerid  Survived  Pclass  \\\n",
      "0            1         0     3.0   \n",
      "1            2         1     1.0   \n",
      "2            3         1     3.0   \n",
      "3            4         1     1.0   \n",
      "4            5         0     3.0   \n",
      "\n",
      "                                                Name      Sex   Age  Sibsp  \\\n",
      "0                            Braund, Mr. Owen Harris     male  22.0      1   \n",
      "1  Cumings, Mrs. John Bradley (Florence Briggs Th...  Female   38.0      1   \n",
      "2                             Heikkinen, Miss. Laina    women  26.0      0   \n",
      "3       Futrelle, Mrs. Jacques Heath (Lily May Peel)  female_  35.0      1   \n",
      "4                           Allen, Mr. William Henry     male  35.0      0   \n",
      "\n",
      "   Parch            Ticket     Fare Cabin Embarked  \n",
      "0      0         A/5 21171   7.2500   NaN        S  \n",
      "1      0          PC 17599  71.2833   C85        C  \n",
      "2      0  STON/O2. 3101282   7.9250   NaN        S  \n",
      "3      0            113803  53.1000  C123        S  \n",
      "4      0            373450   8.0500   NaN        S  \n",
      "____________________________________________________________\n",
      "     Passengerid  Survived  Pclass                             Name      Sex  \\\n",
      "931          121         0     2.0      Hickman, Mr. Stanley George    male    \n",
      "932          478         0     3.0        Braund, Mr. Lewis Richard      man   \n",
      "933          838         0     3.0              Sirota, Mr. Maurice    male    \n",
      "934          791         0     3.0         Keane, Mr. Andrew \"Andy\"     male   \n",
      "935          363         0     3.0  Barbara, Mrs. (Catherine David)  Female    \n",
      "\n",
      "      Age  Sibsp  Parch        Ticket     Fare Cabin Embarked  \n",
      "931  21.0      2      0  S.O.C. 14879  73.5000   NaN        S  \n",
      "932  29.0      1      0          3460   7.0458   NaN        S  \n",
      "933   NaN      0      0        392092   8.0500   NaN        S  \n",
      "934   NaN      0      0         12460   7.7500   NaN        Q  \n",
      "935  45.0      0      1          2691  14.4542   NaN        C  \n",
      "____________________________________________________________\n",
      "(936, 12)\n"
     ]
    }
   ],
   "source": [
    "#Colunas e informações sobre o arquivo Treino\n",
    "print(treino.columns)\n",
    "print('_'*60)\n",
    "print(treino.head(5))\n",
    "print('_'*60)\n",
    "print(treino.tail(5))\n",
    "print('_'*60)\n",
    "print(treino.shape)"
   ]
  },
  {
   "cell_type": "code",
   "execution_count": 3,
   "metadata": {
    "_uuid": "b89c533133306bc5a77f2925685a3d494ff24377"
   },
   "outputs": [
    {
     "name": "stdout",
     "output_type": "stream",
     "text": [
      "Index(['PassengerId', 'Pclass', 'Name', 'Sex', 'Age', 'SibSp', 'Parch',\n",
      "       'Ticket', 'Fare', 'Cabin', 'Embarked'],\n",
      "      dtype='object')\n",
      "____________________________________________________________\n",
      "   PassengerId  Pclass   ...    Cabin Embarked\n",
      "0          892       3   ...      NaN        Q\n",
      "1          893       3   ...      NaN        S\n",
      "2          894       2   ...      NaN        Q\n",
      "3          895       3   ...      NaN        S\n",
      "4          896       3   ...      NaN        S\n",
      "\n",
      "[5 rows x 11 columns]\n",
      "____________________________________________________________\n",
      "     PassengerId  Pclass   ...    Cabin Embarked\n",
      "413         1305       3   ...      NaN        S\n",
      "414         1306       1   ...     C105        C\n",
      "415         1307       3   ...      NaN        S\n",
      "416         1308       3   ...      NaN        S\n",
      "417         1309       3   ...      NaN        C\n",
      "\n",
      "[5 rows x 11 columns]\n",
      "____________________________________________________________\n",
      "(418, 11)\n"
     ]
    }
   ],
   "source": [
    "#Colunas e informações sobre o arquivo Teste\n",
    "print(teste.columns)\n",
    "print('_'*60)\n",
    "print(teste.head(5))\n",
    "print('_'*60)\n",
    "print(teste.tail(5))\n",
    "print('_'*60)\n",
    "print(teste.shape)"
   ]
  },
  {
   "cell_type": "code",
   "execution_count": 3,
   "metadata": {
    "_uuid": "ddba7f92a30baf1308ac4b215208df6e454b1ee2"
   },
   "outputs": [
    {
     "name": "stdout",
     "output_type": "stream",
     "text": [
      "['Passengerid' 'Survived' 'Pclass' 'Name' 'Sex' 'Age' 'Sibsp' 'Parch'\n",
      " 'Ticket' 'Fare' 'Cabin' 'Embarked']\n",
      "____________________________________________________________\n",
      "<class 'pandas.core.frame.DataFrame'>\n",
      "RangeIndex: 936 entries, 0 to 935\n",
      "Data columns (total 12 columns):\n",
      " #   Column       Non-Null Count  Dtype  \n",
      "---  ------       --------------  -----  \n",
      " 0   Passengerid  936 non-null    int64  \n",
      " 1   Survived     936 non-null    int64  \n",
      " 2   Pclass       927 non-null    float64\n",
      " 3   Name         936 non-null    object \n",
      " 4   Sex          890 non-null    object \n",
      " 5   Age          748 non-null    float64\n",
      " 6   Sibsp        936 non-null    int64  \n",
      " 7   Parch        936 non-null    int64  \n",
      " 8   Ticket       936 non-null    object \n",
      " 9   Fare         936 non-null    float64\n",
      " 10  Cabin        210 non-null    object \n",
      " 11  Embarked     934 non-null    object \n",
      "dtypes: float64(3), int64(4), object(5)\n",
      "memory usage: 87.9+ KB\n",
      "____________________________________________________________\n",
      "<class 'pandas.core.frame.DataFrame'>\n",
      "RangeIndex: 418 entries, 0 to 417\n",
      "Data columns (total 11 columns):\n",
      " #   Column       Non-Null Count  Dtype  \n",
      "---  ------       --------------  -----  \n",
      " 0   PassengerId  418 non-null    int64  \n",
      " 1   Pclass       418 non-null    int64  \n",
      " 2   Name         418 non-null    object \n",
      " 3   Sex          418 non-null    object \n",
      " 4   Age          332 non-null    float64\n",
      " 5   SibSp        418 non-null    int64  \n",
      " 6   Parch        418 non-null    int64  \n",
      " 7   Ticket       418 non-null    object \n",
      " 8   Fare         417 non-null    float64\n",
      " 9   Cabin        91 non-null     object \n",
      " 10  Embarked     418 non-null    object \n",
      "dtypes: float64(2), int64(4), object(5)\n",
      "memory usage: 36.0+ KB\n"
     ]
    }
   ],
   "source": [
    "#Colunas e informações sobre o arquivo Teste\n",
    "print(treino.columns.values)\n",
    "print('_'*60)\n",
    "treino.info()\n",
    "print('_'*60)\n",
    "teste.info()"
   ]
  },
  {
   "cell_type": "code",
   "execution_count": 4,
   "metadata": {
    "_uuid": "70bdec1d040ea681ab43323fbe0da17ea16ecfaf"
   },
   "outputs": [
    {
     "data": {
      "text/html": [
       "<div>\n",
       "<style scoped>\n",
       "    .dataframe tbody tr th:only-of-type {\n",
       "        vertical-align: middle;\n",
       "    }\n",
       "\n",
       "    .dataframe tbody tr th {\n",
       "        vertical-align: top;\n",
       "    }\n",
       "\n",
       "    .dataframe thead th {\n",
       "        text-align: right;\n",
       "    }\n",
       "</style>\n",
       "<table border=\"1\" class=\"dataframe\">\n",
       "  <thead>\n",
       "    <tr style=\"text-align: right;\">\n",
       "      <th></th>\n",
       "      <th>Passengerid</th>\n",
       "      <th>Survived</th>\n",
       "      <th>Pclass</th>\n",
       "      <th>Age</th>\n",
       "      <th>Sibsp</th>\n",
       "      <th>Parch</th>\n",
       "      <th>Fare</th>\n",
       "    </tr>\n",
       "  </thead>\n",
       "  <tbody>\n",
       "    <tr>\n",
       "      <th>count</th>\n",
       "      <td>936.000000</td>\n",
       "      <td>936.000000</td>\n",
       "      <td>927.000000</td>\n",
       "      <td>748.000000</td>\n",
       "      <td>936.000000</td>\n",
       "      <td>936.000000</td>\n",
       "      <td>936.000000</td>\n",
       "    </tr>\n",
       "    <tr>\n",
       "      <th>mean</th>\n",
       "      <td>446.438034</td>\n",
       "      <td>0.384615</td>\n",
       "      <td>2.314995</td>\n",
       "      <td>29.777634</td>\n",
       "      <td>0.519231</td>\n",
       "      <td>0.375000</td>\n",
       "      <td>31.647288</td>\n",
       "    </tr>\n",
       "    <tr>\n",
       "      <th>std</th>\n",
       "      <td>258.429453</td>\n",
       "      <td>0.486764</td>\n",
       "      <td>0.836545</td>\n",
       "      <td>15.842432</td>\n",
       "      <td>1.092343</td>\n",
       "      <td>0.796634</td>\n",
       "      <td>48.700700</td>\n",
       "    </tr>\n",
       "    <tr>\n",
       "      <th>min</th>\n",
       "      <td>1.000000</td>\n",
       "      <td>0.000000</td>\n",
       "      <td>1.000000</td>\n",
       "      <td>0.420000</td>\n",
       "      <td>0.000000</td>\n",
       "      <td>0.000000</td>\n",
       "      <td>0.000000</td>\n",
       "    </tr>\n",
       "    <tr>\n",
       "      <th>25%</th>\n",
       "      <td>221.750000</td>\n",
       "      <td>0.000000</td>\n",
       "      <td>2.000000</td>\n",
       "      <td>20.000000</td>\n",
       "      <td>0.000000</td>\n",
       "      <td>0.000000</td>\n",
       "      <td>7.895800</td>\n",
       "    </tr>\n",
       "    <tr>\n",
       "      <th>50%</th>\n",
       "      <td>445.500000</td>\n",
       "      <td>0.000000</td>\n",
       "      <td>3.000000</td>\n",
       "      <td>28.000000</td>\n",
       "      <td>0.000000</td>\n",
       "      <td>0.000000</td>\n",
       "      <td>14.454200</td>\n",
       "    </tr>\n",
       "    <tr>\n",
       "      <th>75%</th>\n",
       "      <td>672.250000</td>\n",
       "      <td>1.000000</td>\n",
       "      <td>3.000000</td>\n",
       "      <td>38.000000</td>\n",
       "      <td>1.000000</td>\n",
       "      <td>0.000000</td>\n",
       "      <td>30.771850</td>\n",
       "    </tr>\n",
       "    <tr>\n",
       "      <th>max</th>\n",
       "      <td>891.000000</td>\n",
       "      <td>1.000000</td>\n",
       "      <td>3.000000</td>\n",
       "      <td>194.000000</td>\n",
       "      <td>8.000000</td>\n",
       "      <td>6.000000</td>\n",
       "      <td>512.329200</td>\n",
       "    </tr>\n",
       "  </tbody>\n",
       "</table>\n",
       "</div>"
      ],
      "text/plain": [
       "       Passengerid    Survived      Pclass         Age       Sibsp  \\\n",
       "count   936.000000  936.000000  927.000000  748.000000  936.000000   \n",
       "mean    446.438034    0.384615    2.314995   29.777634    0.519231   \n",
       "std     258.429453    0.486764    0.836545   15.842432    1.092343   \n",
       "min       1.000000    0.000000    1.000000    0.420000    0.000000   \n",
       "25%     221.750000    0.000000    2.000000   20.000000    0.000000   \n",
       "50%     445.500000    0.000000    3.000000   28.000000    0.000000   \n",
       "75%     672.250000    1.000000    3.000000   38.000000    1.000000   \n",
       "max     891.000000    1.000000    3.000000  194.000000    8.000000   \n",
       "\n",
       "            Parch        Fare  \n",
       "count  936.000000  936.000000  \n",
       "mean     0.375000   31.647288  \n",
       "std      0.796634   48.700700  \n",
       "min      0.000000    0.000000  \n",
       "25%      0.000000    7.895800  \n",
       "50%      0.000000   14.454200  \n",
       "75%      0.000000   30.771850  \n",
       "max      6.000000  512.329200  "
      ]
     },
     "execution_count": 4,
     "metadata": {},
     "output_type": "execute_result"
    }
   ],
   "source": [
    "#Dados estatísticos para análise de colunas numéricas\n",
    "treino.describe()"
   ]
  },
  {
   "cell_type": "code",
   "execution_count": 5,
   "metadata": {
    "_uuid": "0ab53625d60f2e596fa60cdb177651a2482bcea5",
    "scrolled": true
   },
   "outputs": [
    {
     "data": {
      "text/html": [
       "<div>\n",
       "<style scoped>\n",
       "    .dataframe tbody tr th:only-of-type {\n",
       "        vertical-align: middle;\n",
       "    }\n",
       "\n",
       "    .dataframe tbody tr th {\n",
       "        vertical-align: top;\n",
       "    }\n",
       "\n",
       "    .dataframe thead th {\n",
       "        text-align: right;\n",
       "    }\n",
       "</style>\n",
       "<table border=\"1\" class=\"dataframe\">\n",
       "  <thead>\n",
       "    <tr style=\"text-align: right;\">\n",
       "      <th></th>\n",
       "      <th>Name</th>\n",
       "      <th>Sex</th>\n",
       "      <th>Ticket</th>\n",
       "      <th>Cabin</th>\n",
       "      <th>Embarked</th>\n",
       "    </tr>\n",
       "  </thead>\n",
       "  <tbody>\n",
       "    <tr>\n",
       "      <th>count</th>\n",
       "      <td>936</td>\n",
       "      <td>890</td>\n",
       "      <td>936</td>\n",
       "      <td>210</td>\n",
       "      <td>934</td>\n",
       "    </tr>\n",
       "    <tr>\n",
       "      <th>unique</th>\n",
       "      <td>891</td>\n",
       "      <td>12</td>\n",
       "      <td>681</td>\n",
       "      <td>147</td>\n",
       "      <td>3</td>\n",
       "    </tr>\n",
       "    <tr>\n",
       "      <th>top</th>\n",
       "      <td>Attalah, Mr. Sleiman</td>\n",
       "      <td>male</td>\n",
       "      <td>347088</td>\n",
       "      <td>B96 B98</td>\n",
       "      <td>S</td>\n",
       "    </tr>\n",
       "    <tr>\n",
       "      <th>freq</th>\n",
       "      <td>2</td>\n",
       "      <td>144</td>\n",
       "      <td>8</td>\n",
       "      <td>4</td>\n",
       "      <td>676</td>\n",
       "    </tr>\n",
       "  </tbody>\n",
       "</table>\n",
       "</div>"
      ],
      "text/plain": [
       "                        Name   Sex  Ticket    Cabin Embarked\n",
       "count                    936   890     936      210      934\n",
       "unique                   891    12     681      147        3\n",
       "top     Attalah, Mr. Sleiman  male  347088  B96 B98        S\n",
       "freq                       2   144       8        4      676"
      ]
     },
     "execution_count": 5,
     "metadata": {},
     "output_type": "execute_result"
    }
   ],
   "source": [
    "#Dados estatísticos para análise de colunas com texto\n",
    "treino.describe(include=['O'])"
   ]
  },
  {
   "cell_type": "code",
   "execution_count": 6,
   "metadata": {
    "_uuid": "bfc1d981ceeeb324d5cf3555b78f71e110375f5f"
   },
   "outputs": [
    {
     "data": {
      "text/plain": [
       "Passengerid      0\n",
       "Survived         0\n",
       "Pclass           9\n",
       "Name             0\n",
       "Sex             46\n",
       "Age            188\n",
       "Sibsp            0\n",
       "Parch            0\n",
       "Ticket           0\n",
       "Fare             0\n",
       "Cabin          726\n",
       "Embarked         2\n",
       "dtype: int64"
      ]
     },
     "execution_count": 6,
     "metadata": {},
     "output_type": "execute_result"
    }
   ],
   "source": [
    "#Quantidade de dados faltando em cada coluna do arquivo treino\n",
    "treino.isnull().sum()"
   ]
  },
  {
   "cell_type": "markdown",
   "metadata": {
    "_uuid": "31eedfdc00c9f8f359d55b45879ae6e9601aadf1"
   },
   "source": [
    "## 3 Limpeza e correção de dados\n",
    "\n",
    "### 3.1 Limpando e completando a coluna _Age_\n",
    "Para alguns algorítmos de Machine Learning (aprendizado de máquina) a falta de dados faz com que o modelo falhe, e para melhor visualização é preferível que estes estejam limpos. Nas vizualizações acima é possível perceber que existem dados faltando, assim como dados _sujos_. Portanto, é importante que estes sejam corrigidos.\n",
    "Na coluna _Age_, temos dados faltando e ainda _outliers_ (dados absurdos), completaremos e retiraremos estes.\n",
    "\n",
    "_\"O preenchimento dos botes salva-vidas começou por volta dàs 0h20min. O segundo oficial Lightoller se dirigiu ao capitão e sugeriu que a evacuação fosse iniciada com as mulheres e crianças. Smith, ainda em estado de paralisia, concordou com a cabeça e disse \"coloque as mulheres e crianças e abaixe-os\". Lightoller assumiu o lançamento dos botes no lado bombordo enquanto Murdoch ficou encarregado do lado estibordo. Entretanto, os dois homens interpretaram as ordens de maneira diferente: o primeiro oficial entendeu que eram mulheres e crianças primeiro, enquanto o segundo oficial presumiu que eram mulheres e crianças apenas. Dessa forma, Lightoller lançava seus botes caso não houvesse nenhuma mulher por perto para embarcar, enquanto Murdoch por sua vez permitia a entrada de homens depois de embarcadas todas as mulheres e crianças. Nenhum dos dois sabia a capacidade exata dos barcos e temeram superlotá-los, assim vários botes foram abaixados com menos da metade de sua capacidade total.\"_"
   ]
  },
  {
   "cell_type": "code",
   "execution_count": 7,
   "metadata": {
    "_uuid": "a4895637e29b6e250df1bfb7bcf3136b9a49a9e8"
   },
   "outputs": [
    {
     "name": "stdout",
     "output_type": "stream",
     "text": [
      "-7.0\n",
      "65.0\n",
      "-6.0\n",
      "66.0\n",
      "-29.374999999999996\n",
      "70.425\n",
      "-38.974999999999994\n",
      "86.425\n"
     ]
    },
    {
     "data": {
      "text/html": [
       "<div>\n",
       "<style scoped>\n",
       "    .dataframe tbody tr th:only-of-type {\n",
       "        vertical-align: middle;\n",
       "    }\n",
       "\n",
       "    .dataframe tbody tr th {\n",
       "        vertical-align: top;\n",
       "    }\n",
       "\n",
       "    .dataframe thead th {\n",
       "        text-align: right;\n",
       "    }\n",
       "</style>\n",
       "<table border=\"1\" class=\"dataframe\">\n",
       "  <thead>\n",
       "    <tr style=\"text-align: right;\">\n",
       "      <th></th>\n",
       "      <th>Passengerid</th>\n",
       "      <th>Survived</th>\n",
       "      <th>Pclass</th>\n",
       "      <th>Age</th>\n",
       "      <th>Sibsp</th>\n",
       "      <th>Parch</th>\n",
       "      <th>Fare</th>\n",
       "    </tr>\n",
       "  </thead>\n",
       "  <tbody>\n",
       "    <tr>\n",
       "      <th>count</th>\n",
       "      <td>638.000000</td>\n",
       "      <td>638.000000</td>\n",
       "      <td>630.000000</td>\n",
       "      <td>638.000000</td>\n",
       "      <td>638.000000</td>\n",
       "      <td>638.000000</td>\n",
       "      <td>638.000000</td>\n",
       "    </tr>\n",
       "    <tr>\n",
       "      <th>mean</th>\n",
       "      <td>448.987461</td>\n",
       "      <td>0.363636</td>\n",
       "      <td>2.428571</td>\n",
       "      <td>28.091301</td>\n",
       "      <td>0.493730</td>\n",
       "      <td>0.398119</td>\n",
       "      <td>18.996244</td>\n",
       "    </tr>\n",
       "    <tr>\n",
       "      <th>std</th>\n",
       "      <td>263.617301</td>\n",
       "      <td>0.481423</td>\n",
       "      <td>0.741980</td>\n",
       "      <td>13.293027</td>\n",
       "      <td>0.953779</td>\n",
       "      <td>0.843181</td>\n",
       "      <td>14.193592</td>\n",
       "    </tr>\n",
       "    <tr>\n",
       "      <th>min</th>\n",
       "      <td>1.000000</td>\n",
       "      <td>0.000000</td>\n",
       "      <td>1.000000</td>\n",
       "      <td>0.420000</td>\n",
       "      <td>0.000000</td>\n",
       "      <td>0.000000</td>\n",
       "      <td>0.000000</td>\n",
       "    </tr>\n",
       "    <tr>\n",
       "      <th>25%</th>\n",
       "      <td>210.250000</td>\n",
       "      <td>0.000000</td>\n",
       "      <td>2.000000</td>\n",
       "      <td>20.000000</td>\n",
       "      <td>0.000000</td>\n",
       "      <td>0.000000</td>\n",
       "      <td>7.925000</td>\n",
       "    </tr>\n",
       "    <tr>\n",
       "      <th>50%</th>\n",
       "      <td>443.500000</td>\n",
       "      <td>0.000000</td>\n",
       "      <td>3.000000</td>\n",
       "      <td>27.500000</td>\n",
       "      <td>0.000000</td>\n",
       "      <td>0.000000</td>\n",
       "      <td>13.000000</td>\n",
       "    </tr>\n",
       "    <tr>\n",
       "      <th>75%</th>\n",
       "      <td>683.750000</td>\n",
       "      <td>1.000000</td>\n",
       "      <td>3.000000</td>\n",
       "      <td>36.000000</td>\n",
       "      <td>1.000000</td>\n",
       "      <td>0.000000</td>\n",
       "      <td>26.286450</td>\n",
       "    </tr>\n",
       "    <tr>\n",
       "      <th>max</th>\n",
       "      <td>891.000000</td>\n",
       "      <td>1.000000</td>\n",
       "      <td>3.000000</td>\n",
       "      <td>64.000000</td>\n",
       "      <td>5.000000</td>\n",
       "      <td>6.000000</td>\n",
       "      <td>69.300000</td>\n",
       "    </tr>\n",
       "  </tbody>\n",
       "</table>\n",
       "</div>"
      ],
      "text/plain": [
       "       Passengerid    Survived      Pclass         Age       Sibsp  \\\n",
       "count   638.000000  638.000000  630.000000  638.000000  638.000000   \n",
       "mean    448.987461    0.363636    2.428571   28.091301    0.493730   \n",
       "std     263.617301    0.481423    0.741980   13.293027    0.953779   \n",
       "min       1.000000    0.000000    1.000000    0.420000    0.000000   \n",
       "25%     210.250000    0.000000    2.000000   20.000000    0.000000   \n",
       "50%     443.500000    0.000000    3.000000   27.500000    0.000000   \n",
       "75%     683.750000    1.000000    3.000000   36.000000    1.000000   \n",
       "max     891.000000    1.000000    3.000000   64.000000    5.000000   \n",
       "\n",
       "            Parch        Fare  \n",
       "count  638.000000  638.000000  \n",
       "mean     0.398119   18.996244  \n",
       "std      0.843181   14.193592  \n",
       "min      0.000000    0.000000  \n",
       "25%      0.000000    7.925000  \n",
       "50%      0.000000   13.000000  \n",
       "75%      0.000000   26.286450  \n",
       "max      6.000000   69.300000  "
      ]
     },
     "execution_count": 7,
     "metadata": {},
     "output_type": "execute_result"
    },
    {
     "data": {
      "image/png": "[encoded data removed]",
      "text/plain": [
       "<Figure size 432x288 with 1 Axes>"
      ]
     },
     "metadata": {
      "needs_background": "light"
     },
     "output_type": "display_data"
    }
   ],
   "source": [
    "#treino.plot(kind='scatter', x='Age', y='Passengerid', rot=70)\n",
    "#Removendo outlier por Interquartile range : https://www.itl.nist.gov/div898/handbook/prc/section1/prc16.htm\n",
    "\n",
    "def remove_outlier(dataset, nome_col):\n",
    "    q1 = dataset[nome_col].quantile(0.25)\n",
    "    q3 = dataset[nome_col].quantile(0.75)\n",
    "    iqr = q3-q1 #Interquartile range\n",
    "    qbaixo  = q1-1.5*iqr\n",
    "    qcima = q3+1.5*iqr\n",
    "    dataset_saida = dataset.loc[(dataset[nome_col] > qbaixo) & (dataset[nome_col] < qcima)]\n",
    "    print(qbaixo)\n",
    "    print(qcima)\n",
    "    return dataset_saida\n",
    "\n",
    "\n",
    "treino = remove_outlier(treino, 'Age')\n",
    "teste  = remove_outlier(teste, 'Age')\n",
    "\n",
    "#remover outliers da coluna 'Fare'\n",
    "treino = remove_outlier(treino, 'Fare')\n",
    "teste  = remove_outlier(teste, 'Fare')\n",
    "\n",
    "\n",
    "#Foi ultilizada a mediana por razão da distribuição dos dados 'Age'\n",
    "#Preencher os dados faltando com a mediana da idade\n",
    "for dataset in todosdados:\n",
    "    dataset['Age'] = dataset['Age'].fillna(dataset['Age'].median())  \n",
    "\n",
    "##treino.['Age'].transform(lambda s: 1 if s  0 else 0 )    \n",
    "treino.boxplot( column='Age', figsize = (12,8))\n",
    "#Temos idades que estão com um '0.' na frente\n",
    "#Assumindo que as idades com decimal foram retiradas pela diferença do tempo de duas datas\n",
    "\n",
    "#treino['Age'] = treino['Age'].astype(int)\n",
    "treino.describe()"
   ]
  },
  {
   "cell_type": "code",
   "execution_count": 8,
   "metadata": {
    "_uuid": "648683006a45c433ac7a949d13e9e3113a02dd1a",
    "scrolled": true
   },
   "outputs": [
    {
     "data": {
      "text/plain": [
       "Passengerid      0\n",
       "Survived         0\n",
       "Pclass           8\n",
       "Name             0\n",
       "Sex             32\n",
       "Age              0\n",
       "Sibsp            0\n",
       "Parch            0\n",
       "Ticket           0\n",
       "Fare             0\n",
       "Cabin          534\n",
       "Embarked         0\n",
       "dtype: int64"
      ]
     },
     "execution_count": 8,
     "metadata": {},
     "output_type": "execute_result"
    }
   ],
   "source": [
    "#Quantidade de dados faltando\n",
    "treino.isnull().sum()"
   ]
  },
  {
   "cell_type": "code",
   "execution_count": 9,
   "metadata": {
    "_uuid": "f5813f97fe5463db59eb9e266867499e3b614a9c"
   },
   "outputs": [
    {
     "data": {
      "text/plain": [
       "PassengerId      0\n",
       "Pclass           0\n",
       "Name             0\n",
       "Sex              0\n",
       "Age              0\n",
       "SibSp            0\n",
       "Parch            0\n",
       "Ticket           0\n",
       "Fare             0\n",
       "Cabin          240\n",
       "Embarked         0\n",
       "dtype: int64"
      ]
     },
     "execution_count": 9,
     "metadata": {},
     "output_type": "execute_result"
    }
   ],
   "source": [
    "#Quantidade de dados faltando\n",
    "teste.isnull().sum()"
   ]
  },
  {
   "cell_type": "markdown",
   "metadata": {
    "_uuid": "319544c820234135454fc06bfb430eb3f9f065c6"
   },
   "source": [
    "### 3.2 Completando a coluna _Fare_ e removendo as colunas _Ticket_ \n",
    "A coluna _Ticket_ não apresentou padrão que nos ajude na aplicação do projeto, portanto, será removida.\n",
    "\n",
    "Para a coluna _Fare_, no arquivo Teste, percebe-se que há um preço faltando; este passageiro comprou um ticket para Classe Econômica e embarcou em Southampton, assim, será usada a mediana do valor dos demais passageiros com as mesmas características de embarque, e preenchido o seu com esta mediana."
   ]
  },
  {
   "cell_type": "code",
   "execution_count": 10,
   "metadata": {
    "_uuid": "1337a42dc60633c13d9cbc389e409d3059ed1127",
    "scrolled": true
   },
   "outputs": [
    {
     "data": {
      "text/plain": [
       "PassengerId      0\n",
       "Pclass           0\n",
       "Name             0\n",
       "Sex              0\n",
       "Age              0\n",
       "SibSp            0\n",
       "Parch            0\n",
       "Fare             0\n",
       "Cabin          240\n",
       "Embarked         0\n",
       "dtype: int64"
      ]
     },
     "execution_count": 10,
     "metadata": {},
     "output_type": "execute_result"
    }
   ],
   "source": [
    "#Retirando as colunas Ticket\n",
    "treino = treino.drop(['Ticket'], axis=1)\n",
    "teste = teste.drop(['Ticket'], axis=1)\n",
    "treino.head()\n",
    "\n",
    "#Observado que falta o preço da passagem da pessoa no dataset Teste que embarcou em Southampton com classe econômica\n",
    "#Pegar a mediana de todos os que embarcaram em Southampton com classe econômica\n",
    "embarcouS_classe3 = teste['Fare'].loc[(teste['Pclass']==3) & (teste['Embarked']=='S')] + treino['Fare'].loc[(treino['Pclass']==3) & (treino['Embarked']=='S')]\n",
    "\n",
    "#Preencher o valor com essa mediana\n",
    "teste['Fare'] = teste['Fare'].fillna(embarcouS_classe3.median())\n",
    "\n",
    "#Quantidades de dados faltando\n",
    "teste.isnull().sum()"
   ]
  },
  {
   "cell_type": "markdown",
   "metadata": {
    "_uuid": "d383310c8b68bc3e6b58079e6387ed82b827fe8c"
   },
   "source": [
    "### 3.3 Preenchendo os dados que faltam na coluna _Embarked_ e _Pclass_\n",
    "A coluna _Embarked_ do arquivo Treino possui dois dados faltando, como não foi possível achar um padrão de preço/classe para onde cada um embarcou (possivelmente pela data de compra do ticket), será preenchida a coluna _Embarked_ com o local de maior frequência, Southampton. Na coluna _Pclass_ o mesmo será realizado."
   ]
  },
  {
   "cell_type": "markdown",
   "metadata": {
    "_uuid": "79bfb3895eb20e9e611d17d23aa5f135323a4e91"
   },
   "source": [
    "_\"Os comissários de bordo logo foram bater de porta em porta chamando os passageiros e pedindo para que eles fossem para o convés dos botes. O tratamento recebido dependia da posição social; os comissários da primeira classe cuidavam cada um de apenas algumas cabines, então eles podiam ajudar os passageiros a se vestirem e irem para o convés, enquanto os comissários da segunda e terceira classe tinham de percorrer várias cabines rapidamente, rudemente acordar os passageiros e mandá-los colocarem coletes salva-vidas.\"_"
   ]
  },
  {
   "cell_type": "code",
   "execution_count": 11,
   "metadata": {
    "_uuid": "f8665f213b15a54df16930f84d94093388dc7927",
    "scrolled": true
   },
   "outputs": [
    {
     "data": {
      "text/plain": [
       "3.0    374\n",
       "2.0    168\n",
       "1.0     96\n",
       "Name: Pclass, dtype: int64"
      ]
     },
     "execution_count": 11,
     "metadata": {},
     "output_type": "execute_result"
    }
   ],
   "source": [
    "#Dois dados preenchidos com o local de maior frequência\n",
    "mais_embarcado = treino['Embarked'].value_counts().index[0]\n",
    "treino['Embarked'] = treino['Embarked'].fillna(mais_embarcado)\n",
    "treino['Embarked'].describe()\n",
    "\n",
    "#Preenchendo a classe que estava faltando com a classe mais comprada\n",
    "treino['Pclass'] = treino['Pclass'].fillna(treino['Pclass'].median()) \n",
    "treino['Pclass'].value_counts()"
   ]
  },
  {
   "cell_type": "markdown",
   "metadata": {
    "_uuid": "d3f9845b1f1d5c27237b8ceeab4c1459fd59336c"
   },
   "source": [
    "### 3.4 Limpando e Preenchendo a coluna _Sex_\n",
    "Foi verificado que a coluna _Sex_ possui 12 variáveis únicas, sabemos que deveria apresentar 2 (Homem ou Mulher), ainda foi visto que possui 46 dados faltantes.\n",
    "Para preencher e limpar a coluna _Sex_ usaremos o nome e título de cada passageiro. Para isso, criaremos uma nova coluna chamada __New_Sex__, qual será usada daqui para frente em todas vizualizações e modelos preditivos. Foi criado um dicionário para completar, de acordo com o seu título, o sexo como masculino ou feminino."
   ]
  },
  {
   "cell_type": "code",
   "execution_count": 12,
   "metadata": {
    "_uuid": "a5f1ebd45c946204ba1e3b7db5d2c5044e5f63c8"
   },
   "outputs": [
    {
     "name": "stdout",
     "output_type": "stream",
     "text": [
      "male         97\n",
      "mal          65\n",
      "man          64\n",
      " male        63\n",
      "male         59\n",
      "Male         56\n",
      "female       49\n",
      "Female       35\n",
      "women        31\n",
      " female      31\n",
      "female_      29\n",
      "woman        27\n",
      "Name: Sex, dtype: int64\n",
      "male      426\n",
      "female    212\n",
      "Name: New_Sex, dtype: int64\n"
     ]
    }
   ],
   "source": [
    "print(treino.Sex.value_counts())\n",
    "\n",
    "#Todos os títulos que estão padronizados entre uma virgula e um ponto.\n",
    "treino['New_Sex'] = treino.Name.apply(lambda name: name.split(',')[1].split('.')[0].strip())\n",
    "\n",
    "#Diccionário Homem/Mulher\n",
    "relacao_titulo_sex = {\n",
    "    \"Capt\":       \"male\",\n",
    "    \"Col\":        \"male\",\n",
    "    \"Major\":      \"male\",\n",
    "    \"Jonkheer\":   \"male\",\n",
    "    \"Don\":        \"male\",\n",
    "    \"Sir\" :       \"male\",\n",
    "    \"Dr\":         \"male\",\n",
    "    \"Rev\":        \"male\",\n",
    "    \"the Countess\":\"female\",\n",
    "    \"Dona\":       \"female\",\n",
    "    \"Mme\":        \"female\",\n",
    "    \"Mlle\":       \"female\",\n",
    "    \"Ms\":         \"female\",\n",
    "    \"Mr\" :        \"male\",\n",
    "    \"Mrs\" :       \"female\",\n",
    "    \"Miss\" :      \"female\",\n",
    "    \"Master\" :    \"male\",\n",
    "    \"Lady\" :      \"female\"\n",
    "}\n",
    "\n",
    "#Mapeamento da nova coluna pelo dicionário criado acima\n",
    "treino.New_Sex = treino.New_Sex.map(relacao_titulo_sex)\n",
    "print(treino.New_Sex.value_counts())"
   ]
  },
  {
   "cell_type": "markdown",
   "metadata": {
    "_uuid": "818a2417892ec2ba1e6d19291ee9c21c28e502df"
   },
   "source": [
    "### 3.5 Criando uma nova coluna _Título_\n",
    "Do mesmo modo que foi trabalhado no item 3.4, usaremos os títulos que conseguimos para análise posterior; faremos outro dicionário onde alguns dos títulos serão transformados em \"Oficiais\", para os militares oficiais, e \"Realeza\", para os que faziam parte de alguma casa Real.\n",
    "\n",
    "\"Situados no teto dos quartos dos oficiais atrás da casa do leme, todos os botes, exceto dois, estavam situados no Convés dos Botes, o convés mais alto do Titanic. Eles estavam instalados em calços de madeira nas partes dianteira e traseira do Convés dos Botes, em ambos os lados do navio; dois grupos de três na parte dianteira e dois grupos de quatro na parte traseira.\""
   ]
  },
  {
   "cell_type": "code",
   "execution_count": 13,
   "metadata": {
    "_uuid": "880dbe7acb6f9e09aa68490230e28af99938c1fb"
   },
   "outputs": [],
   "source": [
    "treino['Titulo'] = treino.Name.apply(lambda name: name.split(',')[1].split('.')[0].strip())\n",
    "relacao_titulo = {\n",
    "    \"Capt\":       \"Oficial\",\n",
    "    \"Col\":        \"Oficial\",\n",
    "    \"Major\":      \"Oficial\",\n",
    "    \"Jonkheer\":   \"Realeza\",\n",
    "    \"Don\":        \"Realeza\",\n",
    "    \"Sir\" :       \"Realeza\",\n",
    "    \"Dr\":         \"Oficial\",\n",
    "    \"Rev\":        \"Oficial\",\n",
    "    \"the Countess\":\"Realeza\",\n",
    "    \"Dona\":       \"Realeza\",\n",
    "    \"Mme\":        \"Mrs\",\n",
    "    \"Mlle\":       \"Miss\",\n",
    "    \"Ms\":         \"Mrs\",\n",
    "    \"Mr\" :        \"Mr\",\n",
    "    \"Mrs\" :       \"Mrs\",\n",
    "    \"Miss\" :      \"Miss\",\n",
    "    \"Master\" :    \"Master\",\n",
    "    \"Lady\" :      \"Realeza\"\n",
    "}\n",
    "\n",
    "treino['Titulo'] = treino.Titulo.map(relacao_titulo)\n",
    "\n",
    "teste['Titulo'] = teste.Name.apply(lambda name: name.split(',')[1].split('.')[0].strip())\n",
    "\n",
    "teste['Name'] = teste.Titulo.map(relacao_titulo)"
   ]
  },
  {
   "cell_type": "markdown",
   "metadata": {
    "_uuid": "967e9b5214fd966e950fab592c16fc8865a4b679"
   },
   "source": [
    "### 3.6 Número de Série de Cabine\n",
    "Alguns passageiros têm uma série para indicar a sua cabine, pelo link abaixo conseguimos ver que existem marcações de A a T para saber altura e localização das cabines. Será usada essa série para descobrir onde cada passageiro estava situado na embarcação.\n",
    "\n",
    "A maior parte das instalações e acomodações de Primeira Classe situava-se nos [conveses superiores](https://upload.wikimedia.org/wikipedia/commons/8/84/Titanic_cutaway_diagram.png \"Diagrama Titanic\"), dentro da superestrutura do Titanic, onde as vibrações e barulhos dos motores eram bem menores. A totalidade do Convés A foi dedicada ao espaço de recreação e alojamento da Primeira classe, juntamente com a maioria dos conveses B e C. As acomodações da Primeira Classe estavam localizadas em todos os níveis até o Convés F, o que significa que os passageiros da Primeira Classe desfrutavam de mais espaço do que qualquer outra classe de passageiros do navio."
   ]
  },
  {
   "cell_type": "code",
   "execution_count": 14,
   "metadata": {
    "_uuid": "802b1d42f36b09e70dfa42f25bbb0c6bb226d050"
   },
   "outputs": [],
   "source": [
    "treino.Cabin.fillna('0', inplace=True)\n",
    "treino.loc[treino.Cabin.str[0] == 'A', 'Cabin'] = 1\n",
    "treino.loc[treino.Cabin.str[0] == 'B', 'Cabin'] = 2\n",
    "treino.loc[treino.Cabin.str[0] == 'C', 'Cabin'] = 3\n",
    "treino.loc[treino.Cabin.str[0] == 'D', 'Cabin'] = 4\n",
    "treino.loc[treino.Cabin.str[0] == 'E', 'Cabin'] = 5\n",
    "treino.loc[treino.Cabin.str[0] == 'F', 'Cabin'] = 6\n",
    "treino.loc[treino.Cabin.str[0] == 'G', 'Cabin'] = 7\n",
    "treino.loc[treino.Cabin.str[0] == 'T', 'Cabin'] = 8\n",
    "\n",
    "teste.Cabin.fillna('0', inplace=True)\n",
    "teste.loc[teste.Cabin.str[0] == 'A', 'Cabin'] = 1\n",
    "teste.loc[teste.Cabin.str[0] == 'B', 'Cabin'] = 2\n",
    "teste.loc[teste.Cabin.str[0] == 'C', 'Cabin'] = 3\n",
    "teste.loc[teste.Cabin.str[0] == 'D', 'Cabin'] = 4\n",
    "teste.loc[teste.Cabin.str[0] == 'E', 'Cabin'] = 5\n",
    "teste.loc[teste.Cabin.str[0] == 'F', 'Cabin'] = 6\n",
    "teste.loc[teste.Cabin.str[0] == 'G', 'Cabin'] = 7\n",
    "teste.loc[teste.Cabin.str[0] == 'T', 'Cabin'] = 8"
   ]
  },
  {
   "cell_type": "markdown",
   "metadata": {
    "_uuid": "aaf845a73babcb8e0a994c798fa64d1e5d377a57"
   },
   "source": [
    "### 3.7 Criando novas colunas Family, Sozinho, Pequena_familia, Grande_familia"
   ]
  },
  {
   "cell_type": "markdown",
   "metadata": {
    "_uuid": "19b79a129fb32300f20d8daf1615908d46b6ab06"
   },
   "source": [
    "Para melhor categorizar, essas colunas serão criadas de acordo com o número de membros familiares que os passageiros possuíam a bordo:\n",
    "- Family é a quantidade de familiares\n",
    "- Sozinho se o passageiro estava sozinho a bordo\n",
    "- Pequena_familia se o passageiro tinha entre 1 a 3 familiares\n",
    "- Grande_familia se o passageiro possuia 4 ou mais familiares"
   ]
  },
  {
   "cell_type": "markdown",
   "metadata": {
    "_uuid": "8d1eea81131a1cdabb06f87485665d0dbbf9a7e7"
   },
   "source": [
    "_\"Por fim, a terceira classe era onde estavam os imigrantes. Eram pessoas que muitas vezes viajavam em grandes grupos familiares de até doze membros. Eles vinham de diferentes partes da Europa como Escandinávia, Leste Europeu, Irlanda e até mesmo da Ásia.\"_"
   ]
  },
  {
   "cell_type": "code",
   "execution_count": 15,
   "metadata": {
    "_uuid": "d996adcb79b21527157d5abb34beaeb81b7db484"
   },
   "outputs": [
    {
     "data": {
      "text/html": [
       "<div>\n",
       "<style scoped>\n",
       "    .dataframe tbody tr th:only-of-type {\n",
       "        vertical-align: middle;\n",
       "    }\n",
       "\n",
       "    .dataframe tbody tr th {\n",
       "        vertical-align: top;\n",
       "    }\n",
       "\n",
       "    .dataframe thead th {\n",
       "        text-align: right;\n",
       "    }\n",
       "</style>\n",
       "<table border=\"1\" class=\"dataframe\">\n",
       "  <thead>\n",
       "    <tr style=\"text-align: right;\">\n",
       "      <th></th>\n",
       "      <th>Passengerid</th>\n",
       "      <th>Survived</th>\n",
       "      <th>Pclass</th>\n",
       "      <th>Name</th>\n",
       "      <th>Sex</th>\n",
       "      <th>Age</th>\n",
       "      <th>Sibsp</th>\n",
       "      <th>Parch</th>\n",
       "      <th>Fare</th>\n",
       "      <th>Cabin</th>\n",
       "      <th>Embarked</th>\n",
       "      <th>New_Sex</th>\n",
       "      <th>Titulo</th>\n",
       "      <th>Family</th>\n",
       "      <th>Sozinho</th>\n",
       "      <th>Pequena_familia</th>\n",
       "      <th>Grande_familia</th>\n",
       "    </tr>\n",
       "  </thead>\n",
       "  <tbody>\n",
       "    <tr>\n",
       "      <th>0</th>\n",
       "      <td>1</td>\n",
       "      <td>0</td>\n",
       "      <td>3.0</td>\n",
       "      <td>Braund, Mr. Owen Harris</td>\n",
       "      <td>male</td>\n",
       "      <td>22.0</td>\n",
       "      <td>1</td>\n",
       "      <td>0</td>\n",
       "      <td>7.2500</td>\n",
       "      <td>0</td>\n",
       "      <td>S</td>\n",
       "      <td>male</td>\n",
       "      <td>Mr</td>\n",
       "      <td>1</td>\n",
       "      <td>0</td>\n",
       "      <td>1</td>\n",
       "      <td>0</td>\n",
       "    </tr>\n",
       "    <tr>\n",
       "      <th>2</th>\n",
       "      <td>3</td>\n",
       "      <td>1</td>\n",
       "      <td>3.0</td>\n",
       "      <td>Heikkinen, Miss. Laina</td>\n",
       "      <td>women</td>\n",
       "      <td>26.0</td>\n",
       "      <td>0</td>\n",
       "      <td>0</td>\n",
       "      <td>7.9250</td>\n",
       "      <td>0</td>\n",
       "      <td>S</td>\n",
       "      <td>female</td>\n",
       "      <td>Miss</td>\n",
       "      <td>0</td>\n",
       "      <td>1</td>\n",
       "      <td>0</td>\n",
       "      <td>0</td>\n",
       "    </tr>\n",
       "    <tr>\n",
       "      <th>3</th>\n",
       "      <td>4</td>\n",
       "      <td>1</td>\n",
       "      <td>1.0</td>\n",
       "      <td>Futrelle, Mrs. Jacques Heath (Lily May Peel)</td>\n",
       "      <td>female_</td>\n",
       "      <td>35.0</td>\n",
       "      <td>1</td>\n",
       "      <td>0</td>\n",
       "      <td>53.1000</td>\n",
       "      <td>3</td>\n",
       "      <td>S</td>\n",
       "      <td>female</td>\n",
       "      <td>Mrs</td>\n",
       "      <td>1</td>\n",
       "      <td>0</td>\n",
       "      <td>1</td>\n",
       "      <td>0</td>\n",
       "    </tr>\n",
       "    <tr>\n",
       "      <th>4</th>\n",
       "      <td>5</td>\n",
       "      <td>0</td>\n",
       "      <td>3.0</td>\n",
       "      <td>Allen, Mr. William Henry</td>\n",
       "      <td>male</td>\n",
       "      <td>35.0</td>\n",
       "      <td>0</td>\n",
       "      <td>0</td>\n",
       "      <td>8.0500</td>\n",
       "      <td>0</td>\n",
       "      <td>S</td>\n",
       "      <td>male</td>\n",
       "      <td>Mr</td>\n",
       "      <td>0</td>\n",
       "      <td>1</td>\n",
       "      <td>0</td>\n",
       "      <td>0</td>\n",
       "    </tr>\n",
       "    <tr>\n",
       "      <th>6</th>\n",
       "      <td>7</td>\n",
       "      <td>0</td>\n",
       "      <td>1.0</td>\n",
       "      <td>McCarthy, Mr. Timothy J</td>\n",
       "      <td>male</td>\n",
       "      <td>54.0</td>\n",
       "      <td>0</td>\n",
       "      <td>0</td>\n",
       "      <td>51.8625</td>\n",
       "      <td>5</td>\n",
       "      <td>S</td>\n",
       "      <td>male</td>\n",
       "      <td>Mr</td>\n",
       "      <td>0</td>\n",
       "      <td>1</td>\n",
       "      <td>0</td>\n",
       "      <td>0</td>\n",
       "    </tr>\n",
       "  </tbody>\n",
       "</table>\n",
       "</div>"
      ],
      "text/plain": [
       "   Passengerid  Survived  Pclass  \\\n",
       "0            1         0     3.0   \n",
       "2            3         1     3.0   \n",
       "3            4         1     1.0   \n",
       "4            5         0     3.0   \n",
       "6            7         0     1.0   \n",
       "\n",
       "                                           Name      Sex   Age  Sibsp  Parch  \\\n",
       "0                       Braund, Mr. Owen Harris     male  22.0      1      0   \n",
       "2                        Heikkinen, Miss. Laina    women  26.0      0      0   \n",
       "3  Futrelle, Mrs. Jacques Heath (Lily May Peel)  female_  35.0      1      0   \n",
       "4                      Allen, Mr. William Henry     male  35.0      0      0   \n",
       "6                       McCarthy, Mr. Timothy J    male   54.0      0      0   \n",
       "\n",
       "      Fare Cabin Embarked New_Sex Titulo  Family  Sozinho  Pequena_familia  \\\n",
       "0   7.2500     0        S    male     Mr       1        0                1   \n",
       "2   7.9250     0        S  female   Miss       0        1                0   \n",
       "3  53.1000     3        S  female    Mrs       1        0                1   \n",
       "4   8.0500     0        S    male     Mr       0        1                0   \n",
       "6  51.8625     5        S    male     Mr       0        1                0   \n",
       "\n",
       "   Grande_familia  \n",
       "0               0  \n",
       "2               0  \n",
       "3               0  \n",
       "4               0  \n",
       "6               0  "
      ]
     },
     "execution_count": 15,
     "metadata": {},
     "output_type": "execute_result"
    }
   ],
   "source": [
    "teste['Family'] = teste['SibSp'] + teste['Parch'] \n",
    "teste['Sozinho'] = teste['Family'].map(lambda s: 1 if s == 0 else 0)\n",
    "teste['Pequena_familia'] = teste['Family'].map(lambda s: 1 if 1 <= s <= 3 else 0)\n",
    "teste['Grande_familia'] = teste['Family'].map(lambda s: 1 if 4 <= s else 0)\n",
    "\n",
    "treino['Family'] = treino['Sibsp'] + treino['Parch'] \n",
    "treino['Sozinho'] = treino['Family'].map(lambda s: 1 if s == 0 else 0)\n",
    "treino['Pequena_familia'] = treino['Family'].map(lambda s: 1 if 1 <= s <= 3 else 0)\n",
    "treino['Grande_familia'] = treino['Family'].map(lambda s: 1 if 4 <= s else 0)\n",
    "treino.head()"
   ]
  },
  {
   "cell_type": "markdown",
   "metadata": {
    "_uuid": "a25b93e86e12b69ba763e7f97cb3b775a1d42c69"
   },
   "source": [
    "#### Análise final para sabermos se falta algum dado a ser preenchido"
   ]
  },
  {
   "cell_type": "markdown",
   "metadata": {
    "_uuid": "80cefe0ff4960d32db5accddb40845183653480c"
   },
   "source": [
    "Lembrando que a coluna Sex foi substituída por New_Sex "
   ]
  },
  {
   "cell_type": "code",
   "execution_count": 16,
   "metadata": {
    "_uuid": "6ce42c520e379f4b39e225d14291bdb405599dfa"
   },
   "outputs": [
    {
     "data": {
      "text/plain": [
       "Passengerid         0\n",
       "Survived            0\n",
       "Pclass              0\n",
       "Name                0\n",
       "Sex                32\n",
       "Age                 0\n",
       "Sibsp               0\n",
       "Parch               0\n",
       "Fare                0\n",
       "Cabin               0\n",
       "Embarked            0\n",
       "New_Sex             0\n",
       "Titulo              0\n",
       "Family              0\n",
       "Sozinho             0\n",
       "Pequena_familia     0\n",
       "Grande_familia      0\n",
       "dtype: int64"
      ]
     },
     "execution_count": 16,
     "metadata": {},
     "output_type": "execute_result"
    }
   ],
   "source": [
    "#Quantidades de dados faltando\n",
    "treino.isnull().sum()"
   ]
  },
  {
   "cell_type": "code",
   "execution_count": 17,
   "metadata": {
    "_uuid": "2fb501e1ad3471e9636529950ee64489b9e5c941"
   },
   "outputs": [
    {
     "data": {
      "text/plain": [
       "PassengerId        0\n",
       "Pclass             0\n",
       "Name               0\n",
       "Sex                0\n",
       "Age                0\n",
       "SibSp              0\n",
       "Parch              0\n",
       "Fare               0\n",
       "Cabin              0\n",
       "Embarked           0\n",
       "Titulo             0\n",
       "Family             0\n",
       "Sozinho            0\n",
       "Pequena_familia    0\n",
       "Grande_familia     0\n",
       "dtype: int64"
      ]
     },
     "execution_count": 17,
     "metadata": {},
     "output_type": "execute_result"
    }
   ],
   "source": [
    "#Quantidades de dados faltando\n",
    "teste.isnull().sum()"
   ]
  },
  {
   "cell_type": "code",
   "execution_count": 18,
   "metadata": {
    "_uuid": "dbde6430bb96d42e274318c8c26cdfc32c8e328a"
   },
   "outputs": [
    {
     "name": "stdout",
     "output_type": "stream",
     "text": [
      "<class 'pandas.core.frame.DataFrame'>\n",
      "Int64Index: 638 entries, 0 to 935\n",
      "Data columns (total 17 columns):\n",
      " #   Column           Non-Null Count  Dtype  \n",
      "---  ------           --------------  -----  \n",
      " 0   Passengerid      638 non-null    int64  \n",
      " 1   Survived         638 non-null    int64  \n",
      " 2   Pclass           638 non-null    float64\n",
      " 3   Name             638 non-null    object \n",
      " 4   Sex              606 non-null    object \n",
      " 5   Age              638 non-null    float64\n",
      " 6   Sibsp            638 non-null    int64  \n",
      " 7   Parch            638 non-null    int64  \n",
      " 8   Fare             638 non-null    float64\n",
      " 9   Cabin            638 non-null    object \n",
      " 10  Embarked         638 non-null    object \n",
      " 11  New_Sex          638 non-null    object \n",
      " 12  Titulo           638 non-null    object \n",
      " 13  Family           638 non-null    int64  \n",
      " 14  Sozinho          638 non-null    int64  \n",
      " 15  Pequena_familia  638 non-null    int64  \n",
      " 16  Grande_familia   638 non-null    int64  \n",
      "dtypes: float64(3), int64(8), object(6)\n",
      "memory usage: 89.7+ KB\n",
      "<class 'pandas.core.frame.DataFrame'>\n",
      "Int64Index: 296 entries, 0 to 415\n",
      "Data columns (total 15 columns):\n",
      " #   Column           Non-Null Count  Dtype  \n",
      "---  ------           --------------  -----  \n",
      " 0   PassengerId      296 non-null    int64  \n",
      " 1   Pclass           296 non-null    int64  \n",
      " 2   Name             296 non-null    object \n",
      " 3   Sex              296 non-null    object \n",
      " 4   Age              296 non-null    float64\n",
      " 5   SibSp            296 non-null    int64  \n",
      " 6   Parch            296 non-null    int64  \n",
      " 7   Fare             296 non-null    float64\n",
      " 8   Cabin            296 non-null    object \n",
      " 9   Embarked         296 non-null    object \n",
      " 10  Titulo           296 non-null    object \n",
      " 11  Family           296 non-null    int64  \n",
      " 12  Sozinho          296 non-null    int64  \n",
      " 13  Pequena_familia  296 non-null    int64  \n",
      " 14  Grande_familia   296 non-null    int64  \n",
      "dtypes: float64(2), int64(8), object(5)\n",
      "memory usage: 37.0+ KB\n"
     ]
    }
   ],
   "source": [
    "treino.info()\n",
    "teste.info()"
   ]
  },
  {
   "cell_type": "markdown",
   "metadata": {
    "_uuid": "309fc4a8396d452098ea92270278c7bdc5a71c74"
   },
   "source": [
    "## 4 Análise com visualização e estatística\n"
   ]
  },
  {
   "cell_type": "markdown",
   "metadata": {
    "_uuid": "7e3298fb2ce8e4afebaa0e34db3b5b095c62c7e2"
   },
   "source": [
    "_\"O número exato de mortos no naufrágio é incerto devido a vários fatores, como confusão sobre a lista de passageiros, que incluía nomes de pessoas que cancelaram a viagem no último momento e o fato de alguns passageiros terem embarcado sob pseudônimos.\"_"
   ]
  },
  {
   "cell_type": "markdown",
   "metadata": {
    "_uuid": "0018f4f7ee6ee35268df7d316601460e8a789ae5"
   },
   "source": [
    "### 4.1 Localização da Cabine"
   ]
  },
  {
   "cell_type": "code",
   "execution_count": 19,
   "metadata": {
    "_uuid": "1838065c02973870b8fd8c16acf95e7d49863e22",
    "scrolled": false
   },
   "outputs": [
    {
     "data": {
      "text/plain": [
       "<AxesSubplot: xlabel='Cabin', ylabel='Survived'>"
      ]
     },
     "execution_count": 19,
     "metadata": {},
     "output_type": "execute_result"
    },
    {
     "data": {
      "image/png": "[encoded data removed]",
      "text/plain": [
       "<Figure size 640x480 with 1 Axes>"
      ]
     },
     "metadata": {},
     "output_type": "display_data"
    }
   ],
   "source": [
    "sns.barplot(x=\"Cabin\", y=\"Survived\", data=treino,\n",
    "            label=\"Cabine vs Taxa de sobrevivência\",palette=\"Blues_d\", ci= None)"
   ]
  },
  {
   "cell_type": "markdown",
   "metadata": {
    "_uuid": "05c2324d4f815c00098d3d46d367bbfb8c78e414"
   },
   "source": [
    "### 4.2 Titulo / Sobrevivência"
   ]
  },
  {
   "cell_type": "code",
   "execution_count": 20,
   "metadata": {
    "_uuid": "3ab5b9de9a4a220c28a87b4a4d8709682eba088d"
   },
   "outputs": [
    {
     "data": {
      "text/plain": [
       "<AxesSubplot: xlabel='Titulo', ylabel='Survived'>"
      ]
     },
     "execution_count": 20,
     "metadata": {},
     "output_type": "execute_result"
    },
    {
     "data": {
      "image/png": "[encoded data removed]",
      "text/plain": [
       "<Figure size 640x480 with 1 Axes>"
      ]
     },
     "metadata": {},
     "output_type": "display_data"
    }
   ],
   "source": [
    "sns.barplot(x= treino['Titulo'] , y=treino['Survived'], palette=\"Blues_d\", ci= None)"
   ]
  },
  {
   "cell_type": "markdown",
   "metadata": {
    "_uuid": "aacfb54c1b913ad83889a7a7035b12f83405f555"
   },
   "source": [
    "### 4.2 Sexo importa"
   ]
  },
  {
   "cell_type": "code",
   "execution_count": 21,
   "metadata": {
    "_uuid": "cdf1cf163649361b4f88f867336c44d1c405013a"
   },
   "outputs": [
    {
     "data": {
      "text/plain": [
       "Text(0.5, 1.0, 'Sex vs Sozinho comparação de sobrevivência')"
      ]
     },
     "execution_count": 21,
     "metadata": {},
     "output_type": "execute_result"
    },
    {
     "data": {
      "image/png": "[encoded data removed]",
      "text/plain": [
       "<Figure size 1500x1000 with 3 Axes>"
      ]
     },
     "metadata": {},
     "output_type": "display_data"
    }
   ],
   "source": [
    "fig, (ax1, ax2, ax3) = plt.subplots(1,3,figsize=(15,10))\n",
    "\n",
    "sns.barplot(x = 'New_Sex', y = 'Survived', hue = 'Embarked', palette=\"Blues_d\", data=treino, ax = ax1, ci= None)\n",
    "ax1.set_title('Sexo vs Embarked comparação de sobrevivência')\n",
    "\n",
    "sns.barplot(x = 'New_Sex', y = 'Survived', hue = 'Pclass',palette=\"Blues_d\", data=treino, ax  =  ax2, ci= None)\n",
    "ax2.set_title('Sex vs Pclass comparação de sobrevivência')\n",
    "\n",
    "sns.barplot(x = 'New_Sex', y = 'Survived', hue = 'Sozinho',palette=\"Blues_d\", data=treino, ax  = ax3, ci= None)\n",
    "ax3.set_title('Sex vs Sozinho comparação de sobrevivência')"
   ]
  },
  {
   "cell_type": "markdown",
   "metadata": {
    "_uuid": "3d21587f711ccddb4482482314816e61ef71a0ec"
   },
   "source": [
    "### 4.3 Estar sozinho é melhor do que com família?"
   ]
  },
  {
   "cell_type": "markdown",
   "metadata": {
    "_uuid": "422e83cf8f9996a7b9533b8a173f67f2f347a10c"
   },
   "source": [
    "Podemos observar com este gráfico que mulheres com mais de 3 familiares na embarcação tendem a menor chance de sobrevivência, assim como homens sozinhos e com até 3 familiares tendem a maior chance de sobrevivência."
   ]
  },
  {
   "cell_type": "code",
   "execution_count": 22,
   "metadata": {
    "_uuid": "4cfd169636d886679db15b59de948d57a5869bd4"
   },
   "outputs": [
    {
     "data": {
      "text/plain": [
       "<AxesSubplot: xlabel='Family', ylabel='Survived'>"
      ]
     },
     "execution_count": 22,
     "metadata": {},
     "output_type": "execute_result"
    },
    {
     "data": {
      "image/png": "[encoded data removed]",
      "text/plain": [
       "<Figure size 640x480 with 1 Axes>"
      ]
     },
     "metadata": {},
     "output_type": "display_data"
    }
   ],
   "source": [
    "sns.pointplot(x=\"Family\", y=\"Survived\", hue=\"New_Sex\", data=treino, palette={\"male\": \"blue\", \"female\": \"c\"}, ci=None)"
   ]
  },
  {
   "cell_type": "markdown",
   "metadata": {
    "_uuid": "6747dffb357884d9ee57717b72c3b4642f0552b4"
   },
   "source": [
    "### 4.4 Idade"
   ]
  },
  {
   "cell_type": "code",
   "execution_count": 23,
   "metadata": {
    "_uuid": "a8c1c5341fb4479836dd6b65e19191224ba3ff16"
   },
   "outputs": [
    {
     "data": {
      "text/plain": [
       "array([[<AxesSubplot: title={'center': 'Age'}>]], dtype=object)"
      ]
     },
     "execution_count": 23,
     "metadata": {},
     "output_type": "execute_result"
    },
    {
     "data": {
      "image/png": "[encoded data removed]",
      "text/plain": [
       "<Figure size 1200x500 with 1 Axes>"
      ]
     },
     "metadata": {},
     "output_type": "display_data"
    }
   ],
   "source": [
    "treino.hist(column='Age', figsize = (12,5))"
   ]
  },
  {
   "cell_type": "code",
   "execution_count": 24,
   "metadata": {
    "_uuid": "94d3aca83fff89a3460ca9ccbffbd152fbc22b79"
   },
   "outputs": [
    {
     "name": "stderr",
     "output_type": "stream",
     "text": [
      "/home/barauna/anaconda3/lib/python3.8/site-packages/seaborn/axisgrid.py:676: FutureWarning: iteritems is deprecated and will be removed in a future version. Use .items instead.\n",
      "  plot_args = [v for k, v in plot_data.iteritems()]\n",
      "/home/barauna/anaconda3/lib/python3.8/site-packages/seaborn/axisgrid.py:676: FutureWarning: iteritems is deprecated and will be removed in a future version. Use .items instead.\n",
      "  plot_args = [v for k, v in plot_data.iteritems()]\n"
     ]
    },
    {
     "data": {
      "text/plain": [
       "<seaborn.axisgrid.FacetGrid at 0x774cefcee3a0>"
      ]
     },
     "execution_count": 24,
     "metadata": {},
     "output_type": "execute_result"
    },
    {
     "data": {
      "image/png": "[encoded data removed]",
      "text/plain": [
       "<Figure size 1272.11x300 with 1 Axes>"
      ]
     },
     "metadata": {},
     "output_type": "display_data"
    }
   ],
   "source": [
    "facet = sns.FacetGrid(treino, hue=\"Survived\",aspect=4, height  = 3)\n",
    "facet.map(sns.kdeplot,'Age',shade= True)\n",
    "facet.add_legend()"
   ]
  },
  {
   "cell_type": "markdown",
   "metadata": {
    "_uuid": "80f369edddf878ac698138c3fa13a228ca9bd781"
   },
   "source": [
    "## 5 Transformações\n",
    "Em 1959, Arthur Samuel definiu aprendizado de máquina como o \"campo de estudo que dá aos computadores a habilidade de aprender sem serem explicitamente programados.\" Existem três principais categorias para o aprendizado da máquina: aprendizagem supervisionada, não supervisionada e por reforço. Usaremos, neste caso, o aprendizado supervisionado.\n",
    "Problemas de aprendizagem supervisionada são classificados em problemas de “regressão” e “classificação”. Em um problema de classificação estamos tentando prever os resultados em uma saída discreta. Em outras palavras, estamos procurando mapear variáveis de entrada em categorias distintas.Para que o algoritmo funcione da melhor maneira serão feitos simples reparos, criadas e transformadas colunas."
   ]
  },
  {
   "cell_type": "markdown",
   "metadata": {
    "_uuid": "26beae2bcec018b5787eaac1e99f839401c3716d"
   },
   "source": [
    "### 5.1 Covertendo colunas para valores numéricos"
   ]
  },
  {
   "cell_type": "markdown",
   "metadata": {
    "_uuid": "3397b20078ac64cbb02271676d6f404eacbd771f"
   },
   "source": [
    "Nesta seção transformaremos as colunas 'New_sex', 'Embarked' e 'Tem_Cabine' para valores numéricos, faremos com que elas e as colunas 'Titulo' e 'Pclass' se tornem colunas distintas para cada resposta possível, e que os únicos valores sejam 1 e 0, representando \"Sim\" ou \"Não\", \"True\" ou \"False\"."
   ]
  },
  {
   "cell_type": "code",
   "execution_count": 25,
   "metadata": {
    "_uuid": "567e2821f908d3ce173ec3ecf78b526e1b9054f9"
   },
   "outputs": [],
   "source": [
    "#Transformaremos a coluna sexo para Masculino: 0 e Feminino:1\n",
    "mapeamento_sexo = {'male': 0, 'female':1}\n",
    "treino['New_Sex'] = treino['New_Sex'].map(mapeamento_sexo)\n",
    "teste['Sex'] = teste['Sex'].map(mapeamento_sexo)"
   ]
  },
  {
   "cell_type": "code",
   "execution_count": 26,
   "metadata": {
    "_uuid": "13a7899ce83ff75d0a3aa75046d06d42ca786697"
   },
   "outputs": [
    {
     "data": {
      "text/html": [
       "<div>\n",
       "<style scoped>\n",
       "    .dataframe tbody tr th:only-of-type {\n",
       "        vertical-align: middle;\n",
       "    }\n",
       "\n",
       "    .dataframe tbody tr th {\n",
       "        vertical-align: top;\n",
       "    }\n",
       "\n",
       "    .dataframe thead th {\n",
       "        text-align: right;\n",
       "    }\n",
       "</style>\n",
       "<table border=\"1\" class=\"dataframe\">\n",
       "  <thead>\n",
       "    <tr style=\"text-align: right;\">\n",
       "      <th></th>\n",
       "      <th>Passengerid</th>\n",
       "      <th>Survived</th>\n",
       "      <th>Name</th>\n",
       "      <th>Sex</th>\n",
       "      <th>Age</th>\n",
       "      <th>Sibsp</th>\n",
       "      <th>Parch</th>\n",
       "      <th>Fare</th>\n",
       "      <th>Cabin</th>\n",
       "      <th>New_Sex</th>\n",
       "      <th>...</th>\n",
       "      <th>Embarked_S</th>\n",
       "      <th>Pclass_1.0</th>\n",
       "      <th>Pclass_2.0</th>\n",
       "      <th>Pclass_3.0</th>\n",
       "      <th>Titulo_Master</th>\n",
       "      <th>Titulo_Miss</th>\n",
       "      <th>Titulo_Mr</th>\n",
       "      <th>Titulo_Mrs</th>\n",
       "      <th>Titulo_Oficial</th>\n",
       "      <th>Titulo_Realeza</th>\n",
       "    </tr>\n",
       "  </thead>\n",
       "  <tbody>\n",
       "    <tr>\n",
       "      <th>0</th>\n",
       "      <td>1</td>\n",
       "      <td>0</td>\n",
       "      <td>Braund, Mr. Owen Harris</td>\n",
       "      <td>male</td>\n",
       "      <td>22.0</td>\n",
       "      <td>1</td>\n",
       "      <td>0</td>\n",
       "      <td>7.2500</td>\n",
       "      <td>0</td>\n",
       "      <td>0</td>\n",
       "      <td>...</td>\n",
       "      <td>1</td>\n",
       "      <td>0</td>\n",
       "      <td>0</td>\n",
       "      <td>1</td>\n",
       "      <td>0</td>\n",
       "      <td>0</td>\n",
       "      <td>1</td>\n",
       "      <td>0</td>\n",
       "      <td>0</td>\n",
       "      <td>0</td>\n",
       "    </tr>\n",
       "    <tr>\n",
       "      <th>2</th>\n",
       "      <td>3</td>\n",
       "      <td>1</td>\n",
       "      <td>Heikkinen, Miss. Laina</td>\n",
       "      <td>women</td>\n",
       "      <td>26.0</td>\n",
       "      <td>0</td>\n",
       "      <td>0</td>\n",
       "      <td>7.9250</td>\n",
       "      <td>0</td>\n",
       "      <td>1</td>\n",
       "      <td>...</td>\n",
       "      <td>1</td>\n",
       "      <td>0</td>\n",
       "      <td>0</td>\n",
       "      <td>1</td>\n",
       "      <td>0</td>\n",
       "      <td>1</td>\n",
       "      <td>0</td>\n",
       "      <td>0</td>\n",
       "      <td>0</td>\n",
       "      <td>0</td>\n",
       "    </tr>\n",
       "    <tr>\n",
       "      <th>3</th>\n",
       "      <td>4</td>\n",
       "      <td>1</td>\n",
       "      <td>Futrelle, Mrs. Jacques Heath (Lily May Peel)</td>\n",
       "      <td>female_</td>\n",
       "      <td>35.0</td>\n",
       "      <td>1</td>\n",
       "      <td>0</td>\n",
       "      <td>53.1000</td>\n",
       "      <td>3</td>\n",
       "      <td>1</td>\n",
       "      <td>...</td>\n",
       "      <td>1</td>\n",
       "      <td>1</td>\n",
       "      <td>0</td>\n",
       "      <td>0</td>\n",
       "      <td>0</td>\n",
       "      <td>0</td>\n",
       "      <td>0</td>\n",
       "      <td>1</td>\n",
       "      <td>0</td>\n",
       "      <td>0</td>\n",
       "    </tr>\n",
       "    <tr>\n",
       "      <th>4</th>\n",
       "      <td>5</td>\n",
       "      <td>0</td>\n",
       "      <td>Allen, Mr. William Henry</td>\n",
       "      <td>male</td>\n",
       "      <td>35.0</td>\n",
       "      <td>0</td>\n",
       "      <td>0</td>\n",
       "      <td>8.0500</td>\n",
       "      <td>0</td>\n",
       "      <td>0</td>\n",
       "      <td>...</td>\n",
       "      <td>1</td>\n",
       "      <td>0</td>\n",
       "      <td>0</td>\n",
       "      <td>1</td>\n",
       "      <td>0</td>\n",
       "      <td>0</td>\n",
       "      <td>1</td>\n",
       "      <td>0</td>\n",
       "      <td>0</td>\n",
       "      <td>0</td>\n",
       "    </tr>\n",
       "    <tr>\n",
       "      <th>6</th>\n",
       "      <td>7</td>\n",
       "      <td>0</td>\n",
       "      <td>McCarthy, Mr. Timothy J</td>\n",
       "      <td>male</td>\n",
       "      <td>54.0</td>\n",
       "      <td>0</td>\n",
       "      <td>0</td>\n",
       "      <td>51.8625</td>\n",
       "      <td>5</td>\n",
       "      <td>0</td>\n",
       "      <td>...</td>\n",
       "      <td>1</td>\n",
       "      <td>1</td>\n",
       "      <td>0</td>\n",
       "      <td>0</td>\n",
       "      <td>0</td>\n",
       "      <td>0</td>\n",
       "      <td>1</td>\n",
       "      <td>0</td>\n",
       "      <td>0</td>\n",
       "      <td>0</td>\n",
       "    </tr>\n",
       "  </tbody>\n",
       "</table>\n",
       "<p>5 rows × 26 columns</p>\n",
       "</div>"
      ],
      "text/plain": [
       "   Passengerid  Survived                                          Name  \\\n",
       "0            1         0                       Braund, Mr. Owen Harris   \n",
       "2            3         1                        Heikkinen, Miss. Laina   \n",
       "3            4         1  Futrelle, Mrs. Jacques Heath (Lily May Peel)   \n",
       "4            5         0                      Allen, Mr. William Henry   \n",
       "6            7         0                       McCarthy, Mr. Timothy J   \n",
       "\n",
       "       Sex   Age  Sibsp  Parch     Fare Cabin  New_Sex  ...  Embarked_S  \\\n",
       "0     male  22.0      1      0   7.2500     0        0  ...           1   \n",
       "2    women  26.0      0      0   7.9250     0        1  ...           1   \n",
       "3  female_  35.0      1      0  53.1000     3        1  ...           1   \n",
       "4     male  35.0      0      0   8.0500     0        0  ...           1   \n",
       "6    male   54.0      0      0  51.8625     5        0  ...           1   \n",
       "\n",
       "   Pclass_1.0  Pclass_2.0  Pclass_3.0  Titulo_Master  Titulo_Miss  Titulo_Mr  \\\n",
       "0           0           0           1              0            0          1   \n",
       "2           0           0           1              0            1          0   \n",
       "3           1           0           0              0            0          0   \n",
       "4           0           0           1              0            0          1   \n",
       "6           1           0           0              0            0          1   \n",
       "\n",
       "   Titulo_Mrs  Titulo_Oficial  Titulo_Realeza  \n",
       "0           0               0               0  \n",
       "2           0               0               0  \n",
       "3           1               0               0  \n",
       "4           0               0               0  \n",
       "6           0               0               0  \n",
       "\n",
       "[5 rows x 26 columns]"
      ]
     },
     "execution_count": 26,
     "metadata": {},
     "output_type": "execute_result"
    }
   ],
   "source": [
    "#Transformação usando a funcão 'get_dummies' que nos dará uma coluna para cada valor único em cada coluna\n",
    "treino = pd.get_dummies(treino, columns=['Embarked'])\n",
    "teste = pd.get_dummies(teste, columns=['Embarked'])\n",
    "treino = pd.get_dummies(treino, columns=['Pclass'])\n",
    "teste = pd.get_dummies(teste, columns=['Pclass'])\n",
    "treino = pd.get_dummies(treino, columns=['Titulo'])\n",
    "teste = pd.get_dummies(teste, columns=['Titulo'])\n",
    "#treino = pd.get_dummies(treino, columns=['Tem_Cabine'])\n",
    "#teste = pd.get_dummies(teste, columns=['Tem_Cabine'])\n",
    "\n",
    "\n",
    "treino.head()"
   ]
  },
  {
   "cell_type": "code",
   "execution_count": 27,
   "metadata": {
    "_uuid": "afaae6bf77df1564ccf466810ab443ecca729921"
   },
   "outputs": [
    {
     "data": {
      "text/plain": [
       "Index(['PassengerId', 'Name', 'Sex', 'Age', 'SibSp', 'Parch', 'Fare', 'Cabin',\n",
       "       'Family', 'Sozinho', 'Pequena_familia', 'Grande_familia', 'Embarked_C',\n",
       "       'Embarked_Q', 'Embarked_S', 'Pclass_1', 'Pclass_2', 'Pclass_3',\n",
       "       'Titulo_Col', 'Titulo_Dr', 'Titulo_Master', 'Titulo_Miss', 'Titulo_Mr',\n",
       "       'Titulo_Mrs', 'Titulo_Rev'],\n",
       "      dtype='object')"
      ]
     },
     "execution_count": 27,
     "metadata": {},
     "output_type": "execute_result"
    }
   ],
   "source": [
    "teste.columns"
   ]
  },
  {
   "cell_type": "code",
   "execution_count": 28,
   "metadata": {
    "_uuid": "0b01052a9776d546fa6aa2155d5e886c6ef6d719"
   },
   "outputs": [
    {
     "data": {
      "text/plain": [
       "Index(['Passengerid', 'Survived', 'Name', 'Sex', 'Age', 'Sibsp', 'Parch',\n",
       "       'Fare', 'Cabin', 'New_Sex', 'Family', 'Sozinho', 'Pequena_familia',\n",
       "       'Grande_familia', 'Embarked_C', 'Embarked_Q', 'Embarked_S',\n",
       "       'Pclass_1.0', 'Pclass_2.0', 'Pclass_3.0', 'Titulo_Master',\n",
       "       'Titulo_Miss', 'Titulo_Mr', 'Titulo_Mrs', 'Titulo_Oficial',\n",
       "       'Titulo_Realeza'],\n",
       "      dtype='object')"
      ]
     },
     "execution_count": 28,
     "metadata": {},
     "output_type": "execute_result"
    }
   ],
   "source": [
    "treino.columns"
   ]
  },
  {
   "cell_type": "markdown",
   "metadata": {
    "_uuid": "0d5b91444dfe83416a06cc6ceabc4b6037765936"
   },
   "source": [
    "### 5.2 Renomeando colunas"
   ]
  },
  {
   "cell_type": "markdown",
   "metadata": {
    "_uuid": "a46d149c261fac424bb8e49f16c0122cdcc2e40d"
   },
   "source": [
    "Renomearemos algumas colunas nescessárias para o uso do algoritmo."
   ]
  },
  {
   "cell_type": "code",
   "execution_count": 29,
   "metadata": {
    "_uuid": "db3736c42cd1f6f3beb87b463b1298a18c50bf9f"
   },
   "outputs": [
    {
     "data": {
      "text/html": [
       "<div>\n",
       "<style scoped>\n",
       "    .dataframe tbody tr th:only-of-type {\n",
       "        vertical-align: middle;\n",
       "    }\n",
       "\n",
       "    .dataframe tbody tr th {\n",
       "        vertical-align: top;\n",
       "    }\n",
       "\n",
       "    .dataframe thead th {\n",
       "        text-align: right;\n",
       "    }\n",
       "</style>\n",
       "<table border=\"1\" class=\"dataframe\">\n",
       "  <thead>\n",
       "    <tr style=\"text-align: right;\">\n",
       "      <th></th>\n",
       "      <th>Passengerid</th>\n",
       "      <th>Survived</th>\n",
       "      <th>Name</th>\n",
       "      <th>Sex</th>\n",
       "      <th>Age</th>\n",
       "      <th>SibSp</th>\n",
       "      <th>Parch</th>\n",
       "      <th>Fare</th>\n",
       "      <th>Cabin</th>\n",
       "      <th>New_Sex</th>\n",
       "      <th>...</th>\n",
       "      <th>Embarked_S</th>\n",
       "      <th>Pclass_1</th>\n",
       "      <th>Pclass_2</th>\n",
       "      <th>Pclass_3</th>\n",
       "      <th>Titulo_Master</th>\n",
       "      <th>Titulo_Miss</th>\n",
       "      <th>Titulo_Mr</th>\n",
       "      <th>Titulo_Mrs</th>\n",
       "      <th>Titulo_Oficial</th>\n",
       "      <th>Titulo_Realeza</th>\n",
       "    </tr>\n",
       "  </thead>\n",
       "  <tbody>\n",
       "    <tr>\n",
       "      <th>0</th>\n",
       "      <td>1</td>\n",
       "      <td>0</td>\n",
       "      <td>Braund, Mr. Owen Harris</td>\n",
       "      <td>male</td>\n",
       "      <td>22.0</td>\n",
       "      <td>1</td>\n",
       "      <td>0</td>\n",
       "      <td>7.2500</td>\n",
       "      <td>0</td>\n",
       "      <td>0</td>\n",
       "      <td>...</td>\n",
       "      <td>1</td>\n",
       "      <td>0</td>\n",
       "      <td>0</td>\n",
       "      <td>1</td>\n",
       "      <td>0</td>\n",
       "      <td>0</td>\n",
       "      <td>1</td>\n",
       "      <td>0</td>\n",
       "      <td>0</td>\n",
       "      <td>0</td>\n",
       "    </tr>\n",
       "    <tr>\n",
       "      <th>2</th>\n",
       "      <td>3</td>\n",
       "      <td>1</td>\n",
       "      <td>Heikkinen, Miss. Laina</td>\n",
       "      <td>women</td>\n",
       "      <td>26.0</td>\n",
       "      <td>0</td>\n",
       "      <td>0</td>\n",
       "      <td>7.9250</td>\n",
       "      <td>0</td>\n",
       "      <td>1</td>\n",
       "      <td>...</td>\n",
       "      <td>1</td>\n",
       "      <td>0</td>\n",
       "      <td>0</td>\n",
       "      <td>1</td>\n",
       "      <td>0</td>\n",
       "      <td>1</td>\n",
       "      <td>0</td>\n",
       "      <td>0</td>\n",
       "      <td>0</td>\n",
       "      <td>0</td>\n",
       "    </tr>\n",
       "    <tr>\n",
       "      <th>3</th>\n",
       "      <td>4</td>\n",
       "      <td>1</td>\n",
       "      <td>Futrelle, Mrs. Jacques Heath (Lily May Peel)</td>\n",
       "      <td>female_</td>\n",
       "      <td>35.0</td>\n",
       "      <td>1</td>\n",
       "      <td>0</td>\n",
       "      <td>53.1000</td>\n",
       "      <td>3</td>\n",
       "      <td>1</td>\n",
       "      <td>...</td>\n",
       "      <td>1</td>\n",
       "      <td>1</td>\n",
       "      <td>0</td>\n",
       "      <td>0</td>\n",
       "      <td>0</td>\n",
       "      <td>0</td>\n",
       "      <td>0</td>\n",
       "      <td>1</td>\n",
       "      <td>0</td>\n",
       "      <td>0</td>\n",
       "    </tr>\n",
       "    <tr>\n",
       "      <th>4</th>\n",
       "      <td>5</td>\n",
       "      <td>0</td>\n",
       "      <td>Allen, Mr. William Henry</td>\n",
       "      <td>male</td>\n",
       "      <td>35.0</td>\n",
       "      <td>0</td>\n",
       "      <td>0</td>\n",
       "      <td>8.0500</td>\n",
       "      <td>0</td>\n",
       "      <td>0</td>\n",
       "      <td>...</td>\n",
       "      <td>1</td>\n",
       "      <td>0</td>\n",
       "      <td>0</td>\n",
       "      <td>1</td>\n",
       "      <td>0</td>\n",
       "      <td>0</td>\n",
       "      <td>1</td>\n",
       "      <td>0</td>\n",
       "      <td>0</td>\n",
       "      <td>0</td>\n",
       "    </tr>\n",
       "    <tr>\n",
       "      <th>6</th>\n",
       "      <td>7</td>\n",
       "      <td>0</td>\n",
       "      <td>McCarthy, Mr. Timothy J</td>\n",
       "      <td>male</td>\n",
       "      <td>54.0</td>\n",
       "      <td>0</td>\n",
       "      <td>0</td>\n",
       "      <td>51.8625</td>\n",
       "      <td>5</td>\n",
       "      <td>0</td>\n",
       "      <td>...</td>\n",
       "      <td>1</td>\n",
       "      <td>1</td>\n",
       "      <td>0</td>\n",
       "      <td>0</td>\n",
       "      <td>0</td>\n",
       "      <td>0</td>\n",
       "      <td>1</td>\n",
       "      <td>0</td>\n",
       "      <td>0</td>\n",
       "      <td>0</td>\n",
       "    </tr>\n",
       "  </tbody>\n",
       "</table>\n",
       "<p>5 rows × 26 columns</p>\n",
       "</div>"
      ],
      "text/plain": [
       "   Passengerid  Survived                                          Name  \\\n",
       "0            1         0                       Braund, Mr. Owen Harris   \n",
       "2            3         1                        Heikkinen, Miss. Laina   \n",
       "3            4         1  Futrelle, Mrs. Jacques Heath (Lily May Peel)   \n",
       "4            5         0                      Allen, Mr. William Henry   \n",
       "6            7         0                       McCarthy, Mr. Timothy J   \n",
       "\n",
       "       Sex   Age  SibSp  Parch     Fare Cabin  New_Sex  ...  Embarked_S  \\\n",
       "0     male  22.0      1      0   7.2500     0        0  ...           1   \n",
       "2    women  26.0      0      0   7.9250     0        1  ...           1   \n",
       "3  female_  35.0      1      0  53.1000     3        1  ...           1   \n",
       "4     male  35.0      0      0   8.0500     0        0  ...           1   \n",
       "6    male   54.0      0      0  51.8625     5        0  ...           1   \n",
       "\n",
       "   Pclass_1  Pclass_2  Pclass_3  Titulo_Master  Titulo_Miss  Titulo_Mr  \\\n",
       "0         0         0         1              0            0          1   \n",
       "2         0         0         1              0            1          0   \n",
       "3         1         0         0              0            0          0   \n",
       "4         0         0         1              0            0          1   \n",
       "6         1         0         0              0            0          1   \n",
       "\n",
       "   Titulo_Mrs  Titulo_Oficial  Titulo_Realeza  \n",
       "0           0               0               0  \n",
       "2           0               0               0  \n",
       "3           1               0               0  \n",
       "4           0               0               0  \n",
       "6           0               0               0  \n",
       "\n",
       "[5 rows x 26 columns]"
      ]
     },
     "execution_count": 29,
     "metadata": {},
     "output_type": "execute_result"
    }
   ],
   "source": [
    "teste = teste.rename(columns={'Sex': 'New_Sex'})\n",
    "treino = treino.rename(columns ={'Sibsp': 'SibSp','Pclass_1.0':'Pclass_1','Pclass_2.0':'Pclass_2', 'Pclass_3.0':'Pclass_3'})\n",
    "treino.head()"
   ]
  },
  {
   "cell_type": "code",
   "execution_count": 30,
   "metadata": {
    "_uuid": "bedd0de776c290729934f406b36323c927a858ff"
   },
   "outputs": [],
   "source": [
    "#Precisarei transformar meus valores em tipo 'Float' para classificação.\n",
    "treino = treino.astype({'New_Sex': float, 'Embarked_C': float, 'Embarked_Q': float, 'Embarked_S': float, 'Pclass_1': float,\n",
    "                        'Pclass_2': float,'Pclass_3': float,'Sozinho': float,'Pequena_familia': float,'Grande_familia': float,\n",
    "                        'Titulo_Master': float,'Titulo_Miss': float,'Titulo_Mrs': float,'Titulo_Mr': float,\n",
    "                        'Cabin': float })\n",
    "teste = teste.astype({'New_Sex': float, 'Embarked_C': float, 'Embarked_Q': float, 'Embarked_S': float, 'Pclass_1': float,\n",
    "                        'Pclass_2': float,'Pclass_3': float,'Sozinho': float,'Pequena_familia': float,'Grande_familia': float,\n",
    "                        'Titulo_Master': float,'Titulo_Miss': float,'Titulo_Mrs': float,'Titulo_Mr': float,\n",
    "                        'Cabin': float })"
   ]
  },
  {
   "cell_type": "code",
   "execution_count": 31,
   "metadata": {
    "_uuid": "c2ce199a1e8f54de72247873ee80605a40b16f58"
   },
   "outputs": [
    {
     "name": "stdout",
     "output_type": "stream",
     "text": [
      "<class 'pandas.core.frame.DataFrame'>\n",
      "Int64Index: 638 entries, 0 to 935\n",
      "Data columns (total 26 columns):\n",
      " #   Column           Non-Null Count  Dtype  \n",
      "---  ------           --------------  -----  \n",
      " 0   Passengerid      638 non-null    int64  \n",
      " 1   Survived         638 non-null    int64  \n",
      " 2   Name             638 non-null    object \n",
      " 3   Sex              606 non-null    object \n",
      " 4   Age              638 non-null    float64\n",
      " 5   SibSp            638 non-null    int64  \n",
      " 6   Parch            638 non-null    int64  \n",
      " 7   Fare             638 non-null    float64\n",
      " 8   Cabin            638 non-null    float64\n",
      " 9   New_Sex          638 non-null    float64\n",
      " 10  Family           638 non-null    int64  \n",
      " 11  Sozinho          638 non-null    float64\n",
      " 12  Pequena_familia  638 non-null    float64\n",
      " 13  Grande_familia   638 non-null    float64\n",
      " 14  Embarked_C       638 non-null    float64\n",
      " 15  Embarked_Q       638 non-null    float64\n",
      " 16  Embarked_S       638 non-null    float64\n",
      " 17  Pclass_1         638 non-null    float64\n",
      " 18  Pclass_2         638 non-null    float64\n",
      " 19  Pclass_3         638 non-null    float64\n",
      " 20  Titulo_Master    638 non-null    float64\n",
      " 21  Titulo_Miss      638 non-null    float64\n",
      " 22  Titulo_Mr        638 non-null    float64\n",
      " 23  Titulo_Mrs       638 non-null    float64\n",
      " 24  Titulo_Oficial   638 non-null    uint8  \n",
      " 25  Titulo_Realeza   638 non-null    uint8  \n",
      "dtypes: float64(17), int64(5), object(2), uint8(2)\n",
      "memory usage: 125.9+ KB\n"
     ]
    }
   ],
   "source": [
    "treino.info()"
   ]
  },
  {
   "cell_type": "markdown",
   "metadata": {
    "_uuid": "5f3912a115ca08e805e972253f71ce8facd2dd22"
   },
   "source": [
    "## 6 Aplicação do algoritmo"
   ]
  },
  {
   "cell_type": "markdown",
   "metadata": {
    "_uuid": "594fe38be3210904e72a6673cc20e03c73dd2f3c"
   },
   "source": [
    "Por ser um algoritmo que trabalha bem com várias categorias, ser conhecido por não possuir muito overfit e por trabalhar bem com atributos de diferentes escalas foi escolhido o Random Forest (floresta aleatória). Aplicaremos o algoritmo e o testaremos tentando descobrir o próprio conjunto de dados do arquivo Treino, e assim verificar se a sua saída condiz com a realidade.\n",
    "\n",
    "Uma ótima maneira de analisar o projeto é observar a importância de cada coluna para o resultado final do algoritmo, então plotaremos um gráfico de barras para verificar se a importância de cada coluna condiz com as informações que temos e aprender mais sobre o conjunto de dados."
   ]
  },
  {
   "cell_type": "markdown",
   "metadata": {
    "_uuid": "96b7b613f5509d95718ab490dd9117adb777a6ff"
   },
   "source": [
    "Para auxiliar na escolha do modelo usaremos a Matriz de Confusão; um layout que permite a visualização do desempenho de um algoritmo, podendo nos dar 4 métricas importantes para qualquer modelo de aprendizado da máquina:\n",
    "- Precisão \n",
    "- Acurácia\n",
    "- Recall\n",
    "- F1 Score"
   ]
  },
  {
   "cell_type": "markdown",
   "metadata": {
    "_uuid": "f58b0643783b51374594495117f0338b4e991ed2"
   },
   "source": [
    "### 6.1 Todas Características"
   ]
  },
  {
   "cell_type": "markdown",
   "metadata": {
    "_uuid": "cf514a4030b5323dddb117e36b7a16199e2d2965"
   },
   "source": [
    "Antes de rodar nosso algoritmo com o arquivo Teste, faremos algumas tentativas com o própio arquivo Treino.\n",
    "Primeiramente usaremos a função 'train_test_split()' do sklearn, que faz com que o arquivo seja dividido em 70% do conjunto de dados para realmente treinar o algoritmo e 30% desse conjunto para testá-lo.\n",
    "Por já possuir os resultados deste arquivo, conseguiremos medir acurácia, precisão, recall e pontuação de F1, essas 4 características irão ajudar a 'afinar' o algoritmo."
   ]
  },
  {
   "cell_type": "code",
   "execution_count": 32,
   "metadata": {
    "_uuid": "b626d2c759f1be39268fae0b327e2a7f0f38926a"
   },
   "outputs": [
    {
     "name": "stdout",
     "output_type": "stream",
     "text": [
      "0.9932735426008968\n",
      "Accuracy score: 0.828125\n",
      "Precision score: 0.8\n",
      "Recall score: 0.7466666666666667\n",
      "F1 score: 0.7724137931034483\n"
     ]
    }
   ],
   "source": [
    "x_treino=treino[['Age', 'Fare', 'New_Sex', 'Embarked_C', 'Embarked_Q', 'Embarked_S', 'Pclass_1','Pclass_2','Pclass_3',\n",
    "                 'Sozinho','Pequena_familia','Grande_familia','Titulo_Master','Titulo_Miss','Titulo_Mrs','Titulo_Mr',\n",
    "                 'Cabin']]\n",
    "y_treino=treino['Survived']\n",
    "x_teste=treino[['Age', 'Fare', 'New_Sex', 'Embarked_C', 'Embarked_Q', 'Embarked_S', 'Pclass_1','Pclass_2','Pclass_3',\n",
    "                'Sozinho','Pequena_familia','Grande_familia','Titulo_Master','Titulo_Miss','Titulo_Mrs','Titulo_Mr',\n",
    "                'Cabin']]\n",
    "\n",
    "x_treino, X_teste_A, y_treino, Y_teste_A = train_test_split(treino[['Age', 'Fare', 'New_Sex', 'Embarked_C', 'Embarked_Q', 'Embarked_S', 'Pclass_1','Pclass_2','Pclass_3',\n",
    "                 'Sozinho','Pequena_familia','Grande_familia','Titulo_Master','Titulo_Miss','Titulo_Mrs','Titulo_Mr',\n",
    "                 'Cabin']], treino['Survived'], random_state=1, test_size=0.3)\n",
    "#Algoritmo de Floresta aleatória\n",
    "rnf_A=RandomForestClassifier()\n",
    "\n",
    "#Aprendizado do algoritmo\n",
    "rnf_A.fit(x_treino,y_treino)\n",
    "\n",
    "y_prever_rnf_A = rnf_A.predict(X_teste_A)\n",
    "\n",
    "#Pontuação do algoritmo\n",
    "print(rnf_A.score(x_treino,y_treino))\n",
    "\n",
    "print('Accuracy score: {}'.format(accuracy_score(Y_teste_A, y_prever_rnf_A)))\n",
    "print('Precision score: {}'.format(precision_score(Y_teste_A, y_prever_rnf_A)))\n",
    "print('Recall score: {}'.format(recall_score(Y_teste_A, y_prever_rnf_A)))\n",
    "print('F1 score: {}'.format(f1_score(Y_teste_A, y_prever_rnf_A)))"
   ]
  },
  {
   "cell_type": "code",
   "execution_count": 33,
   "metadata": {
    "_uuid": "70fb7cf44476fca4220f7082630bea03d0044023"
   },
   "outputs": [
    {
     "name": "stdout",
     "output_type": "stream",
     "text": [
      "[0.25226399 0.24202262 0.10624891 0.0092589  0.00504657 0.01124128\n",
      " 0.01623318 0.02123463 0.03357692 0.01629787 0.03804244 0.02907761\n",
      " 0.01240079 0.02248306 0.0260166  0.10862763 0.04992701]\n",
      "    Importancia          Colunas\n",
      "0      0.252264              Age\n",
      "1      0.242023             Fare\n",
      "2      0.106249          New_Sex\n",
      "3      0.009259       Embarked_C\n",
      "4      0.005047       Embarked_Q\n",
      "5      0.011241       Embarked_S\n",
      "6      0.016233         Pclass_1\n",
      "7      0.021235         Pclass_2\n",
      "8      0.033577         Pclass_3\n",
      "9      0.016298          Sozinho\n",
      "10     0.038042  Pequena_familia\n",
      "11     0.029078   Grande_familia\n",
      "12     0.012401    Titulo_Master\n",
      "13     0.022483      Titulo_Miss\n",
      "14     0.026017       Titulo_Mrs\n",
      "15     0.108628        Titulo_Mr\n",
      "16     0.049927            Cabin\n"
     ]
    },
    {
     "data": {
      "text/plain": [
       "<AxesSubplot: xlabel='Importancia', ylabel='Colunas'>"
      ]
     },
     "execution_count": 33,
     "metadata": {},
     "output_type": "execute_result"
    },
    {
     "data": {
      "image/png": "[encoded data removed]",
      "text/plain": [
       "<Figure size 1800x1200 with 1 Axes>"
      ]
     },
     "metadata": {},
     "output_type": "display_data"
    }
   ],
   "source": [
    "importancia = rnf_A.feature_importances_\n",
    "print(importancia)\n",
    "testeimpo_A = pd.DataFrame ({'Importancia':importancia,'Colunas':x_treino.columns})\n",
    "print(testeimpo_A)\n",
    "sns.set(rc={'figure.figsize':(18,12)})\n",
    "sns.barplot(x=testeimpo_A['Importancia'],y=testeimpo_A['Colunas'],palette=\"Blues_d\")"
   ]
  },
  {
   "cell_type": "code",
   "execution_count": 34,
   "metadata": {
    "_uuid": "ddec90fb4aafc097d8876a7c4d2f02dd68012a7c"
   },
   "outputs": [
    {
     "name": "stdout",
     "output_type": "stream",
     "text": [
      "Predito    0   1  All\n",
      "Real                 \n",
      "0        103  14  117\n",
      "1         19  56   75\n",
      "All      122  70  192\n"
     ]
    }
   ],
   "source": [
    "conf_matrix_A = confusion_matrix(Y_teste_A, y_prever_rnf_A)\n",
    "print(pd.crosstab(Y_teste_A, y_prever_rnf_A, rownames=['Real'],\n",
    "                  colnames=['Predito'], margins=True))"
   ]
  },
  {
   "cell_type": "markdown",
   "metadata": {
    "_uuid": "625d0ccc5a0bf9301ffffa71dbe56e231ccf97e9"
   },
   "source": [
    "### 6.2 Top 8"
   ]
  },
  {
   "cell_type": "markdown",
   "metadata": {
    "_uuid": "321694ee8c08dc433a4c608032ff648b653a9337"
   },
   "source": [
    "Podemos ver no gráfico acima quais foram as colunas com maior importância no modelo anterior, então selecionando essas 8 variáveis é possível tentar manter ou melhorar a acurácia com menor número de colunas."
   ]
  },
  {
   "cell_type": "code",
   "execution_count": 35,
   "metadata": {
    "_uuid": "f76329bac74813c2f89a08716a791d7082d8bf4f"
   },
   "outputs": [
    {
     "name": "stdout",
     "output_type": "stream",
     "text": [
      "0.9910313901345291\n",
      "Accuracy score: 0.8125\n",
      "Precision score: 0.76\n",
      "Recall score: 0.76\n",
      "F1 score: 0.76\n"
     ]
    }
   ],
   "source": [
    "# Colunas para cada varíavel de teste/ Top 8\n",
    "x_treino=treino[['Age', 'Fare', 'New_Sex','Pclass_3',\n",
    "                 'Titulo_Mr','Titulo_Miss','Titulo_Mrs', 'Cabin']]\n",
    "y_treino=treino['Survived']\n",
    "x_teste=treino[['Age', 'Fare', 'New_Sex','Pclass_3',\n",
    "                 'Titulo_Mr','Titulo_Miss','Titulo_Mrs', 'Cabin']]\n",
    "\n",
    "x_treino, X_teste_8, y_treino, Y_teste_8 = train_test_split(treino[['Age', 'Fare', 'New_Sex','Pclass_3',\n",
    "                 'Titulo_Mr','Titulo_Miss','Titulo_Mrs', 'Cabin']], treino['Survived'], random_state=1, test_size= 0.3)\n",
    "#Algoritmo de Floresta aleatória\n",
    "rnf_8=RandomForestClassifier()\n",
    "\n",
    "#Aprendizado do algoritmo\n",
    "rnf_8.fit(x_treino,y_treino)\n",
    "\n",
    "#Predição do algoritmo\n",
    "y_prever_rnf_8 = rnf_8.predict(X_teste_8)\n",
    "\n",
    "#Pontuação do algoritmo\n",
    "print(rnf_8.score(x_treino,y_treino))\n",
    "\n",
    "print('Accuracy score: {}'.format(accuracy_score(Y_teste_8, y_prever_rnf_8)))\n",
    "print('Precision score: {}'.format(precision_score(Y_teste_8, y_prever_rnf_8)))\n",
    "print('Recall score: {}'.format(recall_score(Y_teste_8, y_prever_rnf_8)))\n",
    "print('F1 score: {}'.format(f1_score(Y_teste_8, y_prever_rnf_8)))"
   ]
  },
  {
   "cell_type": "code",
   "execution_count": 36,
   "metadata": {
    "_uuid": "b918f6d1df288e88d5248d3e5fa07d55fb07e150",
    "scrolled": false
   },
   "outputs": [
    {
     "name": "stdout",
     "output_type": "stream",
     "text": [
      "[0.28973144 0.30334339 0.09882859 0.06600166 0.10933973 0.02434182\n",
      " 0.0414655  0.06694787]\n",
      "   Importancia      Colunas\n",
      "0     0.289731          Age\n",
      "1     0.303343         Fare\n",
      "2     0.098829      New_Sex\n",
      "3     0.066002     Pclass_3\n",
      "4     0.109340    Titulo_Mr\n",
      "5     0.024342  Titulo_Miss\n",
      "6     0.041466   Titulo_Mrs\n",
      "7     0.066948        Cabin\n"
     ]
    },
    {
     "data": {
      "text/plain": [
       "<AxesSubplot: xlabel='Importancia', ylabel='Colunas'>"
      ]
     },
     "execution_count": 36,
     "metadata": {},
     "output_type": "execute_result"
    },
    {
     "data": {
      "image/png": "[encoded data removed]",
      "text/plain": [
       "<Figure size 1800x1200 with 1 Axes>"
      ]
     },
     "metadata": {},
     "output_type": "display_data"
    }
   ],
   "source": [
    "importancia_8 = rnf_8.feature_importances_\n",
    "print(importancia_8)\n",
    "testeimpo_8 = pd.DataFrame ({'Importancia':importancia_8,'Colunas':x_treino.columns})\n",
    "print(testeimpo_8)\n",
    "sns.set(rc={'figure.figsize':(18,12)})\n",
    "sns.barplot(x=testeimpo_8['Importancia'],y=testeimpo_8['Colunas'],palette=\"Blues_d\")"
   ]
  },
  {
   "cell_type": "code",
   "execution_count": 37,
   "metadata": {
    "_uuid": "4fa29b49841f3060c43714937247003fbcda8b86"
   },
   "outputs": [
    {
     "name": "stdout",
     "output_type": "stream",
     "text": [
      "Predito    0   1  All\n",
      "Real                 \n",
      "0         99  18  117\n",
      "1         18  57   75\n",
      "All      117  75  192\n"
     ]
    }
   ],
   "source": [
    "conf_matrix_8 = confusion_matrix(Y_teste_8, y_prever_rnf_8)\n",
    "print(pd.crosstab(Y_teste_8, y_prever_rnf_8, rownames=['Real'],\n",
    "                  colnames=['Predito'], margins=True))"
   ]
  },
  {
   "cell_type": "markdown",
   "metadata": {
    "_uuid": "fe0d4dff9fdbf7179d22137a20835e9afe703f51"
   },
   "source": [
    "### 6.3 Top 6"
   ]
  },
  {
   "cell_type": "markdown",
   "metadata": {
    "_uuid": "3a05d0a9fb0821424cf3861706efd8e8d245f40c"
   },
   "source": [
    "Tentaremos agora utilizar as 6 categorias mais importantes."
   ]
  },
  {
   "cell_type": "code",
   "execution_count": 38,
   "metadata": {
    "_uuid": "75ff8c6654585bf2771205a03209e2e4cf8b98c2"
   },
   "outputs": [
    {
     "name": "stdout",
     "output_type": "stream",
     "text": [
      "0.9874476987447699\n",
      "Accuracy score: 0.83125\n",
      "Precision score: 0.7931034482758621\n",
      "Recall score: 0.7540983606557377\n",
      "F1 score: 0.7731092436974789\n"
     ]
    }
   ],
   "source": [
    "# Colunas para cada varíavel de teste/ Top 6\n",
    "x_treino=treino[['Age', 'Fare', 'New_Sex','Pclass_3',\n",
    "                 'Titulo_Mr','Cabin']]\n",
    "y_treino=treino['Survived']\n",
    "x_teste=treino[['Age', 'Fare', 'New_Sex','Pclass_3',\n",
    "                 'Titulo_Mr','Cabin']]\n",
    "\n",
    "x_treino, X_teste_6, y_treino, Y_teste_6 = train_test_split(treino[['Age', 'Fare', 'New_Sex','Pclass_3',\n",
    "                 'Titulo_Mr','Cabin']], treino['Survived'], random_state=1)\n",
    "\n",
    "#Algoritmo de Floresta aleatória\n",
    "rnf_6=RandomForestClassifier()\n",
    "\n",
    "#Aprendizado do algoritmo\n",
    "rnf_6.fit(x_treino,y_treino)\n",
    "\n",
    "#Predição do algoritmo\n",
    "y_prever_rnf_6 = rnf_6.predict(X_teste_6)\n",
    "\n",
    "#Pontuação do algoritmo\n",
    "print(rnf_6.score(x_treino,y_treino))\n",
    "\n",
    "print('Accuracy score: {}'.format(accuracy_score(Y_teste_6, y_prever_rnf_6)))\n",
    "print('Precision score: {}'.format(precision_score(Y_teste_6, y_prever_rnf_6)))\n",
    "print('Recall score: {}'.format(recall_score(Y_teste_6, y_prever_rnf_6)))\n",
    "print('F1 score: {}'.format(f1_score(Y_teste_6, y_prever_rnf_6)))"
   ]
  },
  {
   "cell_type": "code",
   "execution_count": 39,
   "metadata": {
    "_uuid": "6ba79002efdf0ad28d7dd9b3d4f28dd27f217afe",
    "scrolled": false
   },
   "outputs": [
    {
     "name": "stdout",
     "output_type": "stream",
     "text": [
      "[0.31788082 0.30805362 0.12190969 0.06938684 0.12732816 0.05544087]\n",
      "   Importancia    Colunas\n",
      "0     0.317881        Age\n",
      "1     0.308054       Fare\n",
      "2     0.121910    New_Sex\n",
      "3     0.069387   Pclass_3\n",
      "4     0.127328  Titulo_Mr\n",
      "5     0.055441      Cabin\n"
     ]
    },
    {
     "data": {
      "text/plain": [
       "<AxesSubplot: xlabel='Importancia', ylabel='Colunas'>"
      ]
     },
     "execution_count": 39,
     "metadata": {},
     "output_type": "execute_result"
    },
    {
     "data": {
      "image/png": "[encoded data removed]",
      "text/plain": [
       "<Figure size 1800x1200 with 1 Axes>"
      ]
     },
     "metadata": {},
     "output_type": "display_data"
    }
   ],
   "source": [
    "importancia_6 = rnf_6.feature_importances_\n",
    "print(importancia_6)\n",
    "testeimpo_6 = pd.DataFrame ({'Importancia':importancia_6,'Colunas':x_treino.columns})\n",
    "print(testeimpo_6)\n",
    "sns.set(rc={'figure.figsize':(18,12)})\n",
    "sns.barplot(x=testeimpo_6['Importancia'],y=testeimpo_6['Colunas'],palette=\"Blues_d\")"
   ]
  },
  {
   "cell_type": "code",
   "execution_count": 40,
   "metadata": {
    "_uuid": "d64d969051e966161b6f9cd4b8bcccb18997cd98",
    "scrolled": true
   },
   "outputs": [
    {
     "name": "stdout",
     "output_type": "stream",
     "text": [
      "Predito    0   1  All\n",
      "Real                 \n",
      "0         87  12   99\n",
      "1         15  46   61\n",
      "All      102  58  160\n"
     ]
    }
   ],
   "source": [
    "conf_matrix_6 = confusion_matrix(Y_teste_6, y_prever_rnf_6)\n",
    "print(pd.crosstab(Y_teste_6, y_prever_rnf_6, rownames=['Real'],\n",
    "                  colnames=['Predito'], margins=True))"
   ]
  },
  {
   "cell_type": "markdown",
   "metadata": {
    "_uuid": "5644a858a42a08de9a45b6cfdf3f1df7a3ddb612"
   },
   "source": [
    "### 6.4 Teste maior modelo contra ele mesmo"
   ]
  },
  {
   "cell_type": "markdown",
   "metadata": {
    "_uuid": "3e5da272a60e436d7988e807e924b787b2e227ae"
   },
   "source": [
    "Nesta seção e na que segue testaremos o modelo com todas as características e o modelo Top 8. Os treinaremos com o modelo inteiro e os testaremos procurando prever a própia coluna _'Survived'_.\n",
    "O objetivo deste teste é ter maior análise dos modelos e testar a sua probabilidade de estar _overfit_."
   ]
  },
  {
   "cell_type": "code",
   "execution_count": 41,
   "metadata": {
    "_uuid": "3933e434d7e5c524169f3abf3b1cd4578182a50e"
   },
   "outputs": [
    {
     "name": "stdout",
     "output_type": "stream",
     "text": [
      "0.9905956112852664\n",
      "Accuracy score: 0.9905956112852664\n",
      "Precision score: 0.9956140350877193\n",
      "Recall score: 0.978448275862069\n",
      "F1 score: 0.9869565217391305\n"
     ]
    }
   ],
   "source": [
    "# Colunas para cada varíavel de treino teste final\n",
    "x_treino_T=treino[['Age', 'Fare', 'New_Sex', 'Embarked_C', 'Embarked_Q', 'Embarked_S', 'Pclass_1','Pclass_2','Pclass_3',\n",
    "                 'Sozinho','Pequena_familia','Grande_familia','Titulo_Master','Titulo_Miss','Titulo_Mrs','Titulo_Mr',\n",
    "                 'Cabin']]\n",
    "y_treino_T=treino['Survived']\n",
    "x_teste_T=treino[['Age', 'Fare', 'New_Sex', 'Embarked_C', 'Embarked_Q', 'Embarked_S', 'Pclass_1','Pclass_2','Pclass_3',\n",
    "                 'Sozinho','Pequena_familia','Grande_familia','Titulo_Master','Titulo_Miss','Titulo_Mrs','Titulo_Mr',\n",
    "                 'Cabin']]\n",
    "\n",
    "#Algoritmo de Floresta aleatória\n",
    "rnf_T=RandomForestClassifier()\n",
    "\n",
    "#Aprendizado do algoritmo\n",
    "rnf_T.fit(x_treino_T, y_treino_T)\n",
    "\n",
    "#Predição do algoritmo\n",
    "y_prever_rnf_T = rnf_T.predict(x_teste_T)\n",
    "\n",
    "#Pontuação do algoritmo\n",
    "print(rnf_T.score(x_treino_T,y_treino_T))\n",
    "\n",
    "print('Accuracy score: {}'.format(accuracy_score(y_treino_T, y_prever_rnf_T)))\n",
    "print('Precision score: {}'.format(precision_score(y_treino_T, y_prever_rnf_T)))\n",
    "print('Recall score: {}'.format(recall_score(y_treino_T, y_prever_rnf_T)))\n",
    "print('F1 score: {}'.format(f1_score(y_treino_T, y_prever_rnf_T)))"
   ]
  },
  {
   "cell_type": "code",
   "execution_count": 42,
   "metadata": {
    "_uuid": "85f751674867bf25bf71dc15a539e13c907d9d8b"
   },
   "outputs": [
    {
     "name": "stdout",
     "output_type": "stream",
     "text": [
      "Predito    0    1  All\n",
      "Real                  \n",
      "0        405    1  406\n",
      "1          5  227  232\n",
      "All      410  228  638\n"
     ]
    }
   ],
   "source": [
    "print(pd.crosstab(y_treino_T, y_prever_rnf_T, rownames=['Real'],\n",
    "                  colnames=['Predito'], margins=True))"
   ]
  },
  {
   "cell_type": "markdown",
   "metadata": {
    "_uuid": "c425e12651726f28209036ad2eb90689e0b621f3"
   },
   "source": [
    "### 6.5 Teste Top 8 contra ele mesmo"
   ]
  },
  {
   "cell_type": "code",
   "execution_count": 43,
   "metadata": {
    "_uuid": "d7d197d3ba0d68f02a02a07becfe3fc1a449b610"
   },
   "outputs": [
    {
     "name": "stdout",
     "output_type": "stream",
     "text": [
      "0.9890282131661442\n",
      "Accuracy score: 0.9890282131661442\n",
      "Precision score: 0.9955947136563876\n",
      "Recall score: 0.9741379310344828\n",
      "F1 score: 0.9847494553376905\n"
     ]
    }
   ],
   "source": [
    "# Colunas para cada varíavel de treino teste final\n",
    "x_treino_T8=treino[['Age', 'Fare', 'New_Sex','Pclass_3',\n",
    "                 'Titulo_Mr','Titulo_Miss','Titulo_Mrs', 'Cabin']]\n",
    "y_treino_T8=treino['Survived']\n",
    "x_teste_T8=treino[['Age', 'Fare', 'New_Sex','Pclass_3',\n",
    "                 'Titulo_Mr','Titulo_Miss','Titulo_Mrs', 'Cabin']]\n",
    "\n",
    "#Algoritmo de Floresta aleatória\n",
    "rnf_T8=RandomForestClassifier()\n",
    "\n",
    "#Aprendizado do algoritmo\n",
    "rnf_T8.fit(x_treino_T8, y_treino_T8)\n",
    "\n",
    "#Predição do algoritmo\n",
    "y_prever_rnf_T8 = rnf_T8.predict(x_teste_T8)\n",
    "\n",
    "#Pontuação do algoritmo\n",
    "print(rnf_T8.score(x_treino_T8,y_treino_T8))\n",
    "\n",
    "print('Accuracy score: {}'.format(accuracy_score(y_treino_T8, y_prever_rnf_T8)))\n",
    "print('Precision score: {}'.format(precision_score(y_treino_T8, y_prever_rnf_T8)))\n",
    "print('Recall score: {}'.format(recall_score(y_treino_T8, y_prever_rnf_T8)))\n",
    "print('F1 score: {}'.format(f1_score(y_treino_T8, y_prever_rnf_T8)))"
   ]
  },
  {
   "cell_type": "code",
   "execution_count": 44,
   "metadata": {
    "_uuid": "bf10e353f21623046e741db7b067dad18d7ace59"
   },
   "outputs": [
    {
     "name": "stdout",
     "output_type": "stream",
     "text": [
      "Predito    0    1  All\n",
      "Real                  \n",
      "0        405    1  406\n",
      "1          6  226  232\n",
      "All      411  227  638\n"
     ]
    }
   ],
   "source": [
    "print(pd.crosstab(y_treino_T8, y_prever_rnf_T8, rownames=['Real'],\n",
    "                  colnames=['Predito'], margins=True))"
   ]
  },
  {
   "cell_type": "markdown",
   "metadata": {
    "_uuid": "e5dcc031b150e5892ed199c7411ab339dbe79a66"
   },
   "source": [
    "### 6.6 Modelo Final"
   ]
  },
  {
   "cell_type": "code",
   "execution_count": 45,
   "metadata": {
    "_uuid": "c83162ce20fc9f22e477abbca27b7380e7ee9256"
   },
   "outputs": [
    {
     "name": "stdout",
     "output_type": "stream",
     "text": [
      "0.9905956112852664\n"
     ]
    }
   ],
   "source": [
    "# Colunas para cada varíavel do modelo final\n",
    "x_treino_F=treino[['Age', 'Fare', 'Embarked_C', 'Embarked_Q', 'Embarked_S', 'Pclass_1','Pclass_2','Pclass_3',\n",
    "                 'Sozinho','Pequena_familia','Grande_familia','Titulo_Master','Titulo_Miss','Titulo_Mrs','Titulo_Mr',\n",
    "                 'Cabin']]\n",
    "y_treino_F=treino['Survived']\n",
    "x_teste_F=teste[['Age', 'Fare', 'Embarked_C', 'Embarked_Q', 'Embarked_S', 'Pclass_1','Pclass_2','Pclass_3',\n",
    "                 'Sozinho','Pequena_familia','Grande_familia','Titulo_Master','Titulo_Miss','Titulo_Mrs','Titulo_Mr',\n",
    "                 'Cabin']]\n",
    "\n",
    "#Algoritmo de Floresta aleatória\n",
    "rnf_F=RandomForestClassifier()\n",
    "\n",
    "#Aprendizado do algoritmo\n",
    "rnf_F.fit(x_treino_F, y_treino_F)\n",
    "\n",
    "#Predição do algoritmo\n",
    "y_prever_rnf_F = rnf_F.predict(x_teste_F)\n",
    "\n",
    "#Pontuação do algoritmo\n",
    "print(rnf_F.score(x_treino_F, y_treino_F))"
   ]
  },
  {
   "cell_type": "code",
   "execution_count": 46,
   "metadata": {
    "_uuid": "b2d2a98dc400f0df964fc79640f82085d8427b75"
   },
   "outputs": [],
   "source": [
    "df_teste_rnf = pd.DataFrame({\n",
    "        \"PassengerId\": teste[\"PassengerId\"],\n",
    "        \"Survived\": y_prever_rnf_F\n",
    "         })"
   ]
  },
  {
   "cell_type": "markdown",
   "metadata": {
    "_uuid": "7f8d473a33b12451663d24d05c5248c0b13a0cee"
   },
   "source": [
    "## 7 Conclusão"
   ]
  },
  {
   "cell_type": "markdown",
   "metadata": {
    "_uuid": "a2986cc55f4a5642f9b14970cb8c3b8d43693e6e"
   },
   "source": [
    "Nestre trabalho foi realizada a limpeza, correção e transformação de dados. Foi feito remoção de outliers e preenchimento de dados faltantes para melhor análise posterior. Na construção do modelo também foi avaliada a seleção de features, realizado um top 8 e top 6 para poder, em um futuro, nos dar um melhor retorno com maior número de dados.\n",
    "Análisando o gráfico 4.1 percebemos o quanto a localização das cabines influencia na taxa de sobrevivência. Percebemos com o gráfico 4.2 que as mulheres, não importando idade ou localização, tinham chances muito maiores de sobrevivência do que os homems. De acordo com o segundo gráfico do 4.4 observamos a faixa etária com maior chance de sobrevivência."
   ]
  },
  {
   "cell_type": "markdown",
   "metadata": {
    "_uuid": "bda853614a25b024eaccdc03d530cb4079745ab0"
   },
   "source": [
    "## 8 Referências\n",
    "- [RMS Titanic](https://pt.wikipedia.org/wiki/RMS_Titanic).\n",
    "- [Botes salva-vidas do RMS Titanic](https://pt.wikipedia.org/wiki/Botes_salva-vidas_do_RMS_Titanic).\n",
    "- [Titanic by History](https://www.history.com/topics/early-20th-century-us/titanic)."
   ]
  },
  {
   "cell_type": "code",
   "execution_count": 48,
   "metadata": {
    "_uuid": "e1e799e6401f7c24fac4e684b68434037216cc30"
   },
   "outputs": [],
   "source": []
  }
 ],
 "metadata": {
  "kernelspec": {
   "display_name": "base",
   "language": "python",
   "name": "python3"
  },
  "language_info": {
   "codemirror_mode": {
    "name": "ipython",
    "version": 3
   },
   "file_extension": ".py",
   "mimetype": "text/x-python",
   "name": "python",
   "nbconvert_exporter": "python",
   "pygments_lexer": "ipython3",
   "version": "3.8.8"
  }
 },
 "nbformat": 4,
 "nbformat_minor": 1
}
